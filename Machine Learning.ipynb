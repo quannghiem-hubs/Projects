{
 "cells": [
  {
   "cell_type": "markdown",
   "metadata": {
    "id": "DtNBZFHO3M7n"
   },
   "source": [
    "# **Waze Project**"
   ]
  },
  {
   "cell_type": "code",
   "execution_count": 1,
   "metadata": {
    "id": "fKhnX2Puf4Bt"
   },
   "outputs": [],
   "source": [
    "# Import packages for data manipulation\n",
    "import pandas as pd \n",
    "import numpy as np\n",
    "# Import packages for data visualization\n",
    "import matplotlib.pyplot as plt \n",
    "import seaborn as sns \n",
    "# This lets us see all of the columns, preventing Juptyer from redacting them.\n",
    "pd.set_option('display.max_columns', None)\n",
    "\n",
    "# Import packages for data modeling\n",
    "from sklearn.model_selection import train_test_split, GridSearchCV \n",
    "from sklearn.metrics import f1_score, accuracy_score, recall_score, precision_score, confusion_matrix, ConfusionMatrixDisplay\n",
    "from sklearn. ensemble import RandomForestClassifier \n",
    "# This is the function that helps plot feature importance\n",
    "from xgboost import plot_importance\n",
    "from xgboost import XGBClassifier "
   ]
  },
  {
   "cell_type": "code",
   "execution_count": 2,
   "metadata": {
    "id": "5weTXGKqa_iG"
   },
   "outputs": [],
   "source": [
    "# Import dataset\n",
    "df0 = pd.read_csv('waze_dataset.csv')"
   ]
  },
  {
   "cell_type": "code",
   "execution_count": 3,
   "metadata": {
    "id": "1HyORSaQo_LU"
   },
   "outputs": [
    {
     "data": {
      "text/html": [
       "<div>\n",
       "<style scoped>\n",
       "    .dataframe tbody tr th:only-of-type {\n",
       "        vertical-align: middle;\n",
       "    }\n",
       "\n",
       "    .dataframe tbody tr th {\n",
       "        vertical-align: top;\n",
       "    }\n",
       "\n",
       "    .dataframe thead th {\n",
       "        text-align: right;\n",
       "    }\n",
       "</style>\n",
       "<table border=\"1\" class=\"dataframe\">\n",
       "  <thead>\n",
       "    <tr style=\"text-align: right;\">\n",
       "      <th></th>\n",
       "      <th>ID</th>\n",
       "      <th>label</th>\n",
       "      <th>sessions</th>\n",
       "      <th>drives</th>\n",
       "      <th>total_sessions</th>\n",
       "      <th>n_days_after_onboarding</th>\n",
       "      <th>total_navigations_fav1</th>\n",
       "      <th>total_navigations_fav2</th>\n",
       "      <th>driven_km_drives</th>\n",
       "      <th>duration_minutes_drives</th>\n",
       "      <th>activity_days</th>\n",
       "      <th>driving_days</th>\n",
       "      <th>device</th>\n",
       "    </tr>\n",
       "  </thead>\n",
       "  <tbody>\n",
       "    <tr>\n",
       "      <th>0</th>\n",
       "      <td>0</td>\n",
       "      <td>retained</td>\n",
       "      <td>283</td>\n",
       "      <td>226</td>\n",
       "      <td>296.748273</td>\n",
       "      <td>2276</td>\n",
       "      <td>208</td>\n",
       "      <td>0</td>\n",
       "      <td>2628.845068</td>\n",
       "      <td>1985.775061</td>\n",
       "      <td>28</td>\n",
       "      <td>19</td>\n",
       "      <td>Android</td>\n",
       "    </tr>\n",
       "    <tr>\n",
       "      <th>1</th>\n",
       "      <td>1</td>\n",
       "      <td>retained</td>\n",
       "      <td>133</td>\n",
       "      <td>107</td>\n",
       "      <td>326.896596</td>\n",
       "      <td>1225</td>\n",
       "      <td>19</td>\n",
       "      <td>64</td>\n",
       "      <td>13715.920550</td>\n",
       "      <td>3160.472914</td>\n",
       "      <td>13</td>\n",
       "      <td>11</td>\n",
       "      <td>iPhone</td>\n",
       "    </tr>\n",
       "    <tr>\n",
       "      <th>2</th>\n",
       "      <td>2</td>\n",
       "      <td>retained</td>\n",
       "      <td>114</td>\n",
       "      <td>95</td>\n",
       "      <td>135.522926</td>\n",
       "      <td>2651</td>\n",
       "      <td>0</td>\n",
       "      <td>0</td>\n",
       "      <td>3059.148818</td>\n",
       "      <td>1610.735904</td>\n",
       "      <td>14</td>\n",
       "      <td>8</td>\n",
       "      <td>Android</td>\n",
       "    </tr>\n",
       "    <tr>\n",
       "      <th>3</th>\n",
       "      <td>3</td>\n",
       "      <td>retained</td>\n",
       "      <td>49</td>\n",
       "      <td>40</td>\n",
       "      <td>67.589221</td>\n",
       "      <td>15</td>\n",
       "      <td>322</td>\n",
       "      <td>7</td>\n",
       "      <td>913.591123</td>\n",
       "      <td>587.196542</td>\n",
       "      <td>7</td>\n",
       "      <td>3</td>\n",
       "      <td>iPhone</td>\n",
       "    </tr>\n",
       "    <tr>\n",
       "      <th>4</th>\n",
       "      <td>4</td>\n",
       "      <td>retained</td>\n",
       "      <td>84</td>\n",
       "      <td>68</td>\n",
       "      <td>168.247020</td>\n",
       "      <td>1562</td>\n",
       "      <td>166</td>\n",
       "      <td>5</td>\n",
       "      <td>3950.202008</td>\n",
       "      <td>1219.555924</td>\n",
       "      <td>27</td>\n",
       "      <td>18</td>\n",
       "      <td>Android</td>\n",
       "    </tr>\n",
       "  </tbody>\n",
       "</table>\n",
       "</div>"
      ],
      "text/plain": [
       "   ID     label  sessions  drives  total_sessions  n_days_after_onboarding  \\\n",
       "0   0  retained       283     226      296.748273                     2276   \n",
       "1   1  retained       133     107      326.896596                     1225   \n",
       "2   2  retained       114      95      135.522926                     2651   \n",
       "3   3  retained        49      40       67.589221                       15   \n",
       "4   4  retained        84      68      168.247020                     1562   \n",
       "\n",
       "   total_navigations_fav1  total_navigations_fav2  driven_km_drives  \\\n",
       "0                     208                       0       2628.845068   \n",
       "1                      19                      64      13715.920550   \n",
       "2                       0                       0       3059.148818   \n",
       "3                     322                       7        913.591123   \n",
       "4                     166                       5       3950.202008   \n",
       "\n",
       "   duration_minutes_drives  activity_days  driving_days   device  \n",
       "0              1985.775061             28            19  Android  \n",
       "1              3160.472914             13            11   iPhone  \n",
       "2              1610.735904             14             8  Android  \n",
       "3               587.196542              7             3   iPhone  \n",
       "4              1219.555924             27            18  Android  "
      ]
     },
     "execution_count": 3,
     "metadata": {},
     "output_type": "execute_result"
    }
   ],
   "source": [
    "# Inspect the first five rows\n",
    "df0.head()"
   ]
  },
  {
   "cell_type": "markdown",
   "metadata": {
    "id": "5VZowX9rhU1o"
   },
   "source": [
    "### **Feature engineering**\n",
    "\n",
    "You have already prepared much of this data and performed exploratory data analysis (EDA) in previous courses. You know that some features had stronger correlations with churn than others, and you also created some features that may be useful.\n",
    "\n",
    "In this part of the project, you'll engineer these features and some new features to use for modeling.\n",
    "\n",
    "To begin, create a copy of `df0` to preserve the original dataframe. Call the copy `df`."
   ]
  },
  {
   "cell_type": "code",
   "execution_count": 4,
   "metadata": {
    "id": "mBOSW8IDbO_d"
   },
   "outputs": [],
   "source": [
    "# Copy the df0 dataframe\n",
    "df =df0.copy()"
   ]
  },
  {
   "cell_type": "code",
   "execution_count": 5,
   "metadata": {
    "id": "teUeCF-yf_6o"
   },
   "outputs": [
    {
     "name": "stdout",
     "output_type": "stream",
     "text": [
      "<class 'pandas.core.frame.DataFrame'>\n",
      "RangeIndex: 14999 entries, 0 to 14998\n",
      "Data columns (total 13 columns):\n",
      " #   Column                   Non-Null Count  Dtype  \n",
      "---  ------                   --------------  -----  \n",
      " 0   ID                       14999 non-null  int64  \n",
      " 1   label                    14299 non-null  object \n",
      " 2   sessions                 14999 non-null  int64  \n",
      " 3   drives                   14999 non-null  int64  \n",
      " 4   total_sessions           14999 non-null  float64\n",
      " 5   n_days_after_onboarding  14999 non-null  int64  \n",
      " 6   total_navigations_fav1   14999 non-null  int64  \n",
      " 7   total_navigations_fav2   14999 non-null  int64  \n",
      " 8   driven_km_drives         14999 non-null  float64\n",
      " 9   duration_minutes_drives  14999 non-null  float64\n",
      " 10  activity_days            14999 non-null  int64  \n",
      " 11  driving_days             14999 non-null  int64  \n",
      " 12  device                   14999 non-null  object \n",
      "dtypes: float64(3), int64(8), object(2)\n",
      "memory usage: 1.5+ MB\n"
     ]
    }
   ],
   "source": [
    "df.info()"
   ]
  },
  {
   "cell_type": "code",
   "execution_count": 6,
   "metadata": {
    "id": "vAB6cv6xfvZn"
   },
   "outputs": [
    {
     "data": {
      "text/html": [
       "<div>\n",
       "<style scoped>\n",
       "    .dataframe tbody tr th:only-of-type {\n",
       "        vertical-align: middle;\n",
       "    }\n",
       "\n",
       "    .dataframe tbody tr th {\n",
       "        vertical-align: top;\n",
       "    }\n",
       "\n",
       "    .dataframe thead th {\n",
       "        text-align: right;\n",
       "    }\n",
       "</style>\n",
       "<table border=\"1\" class=\"dataframe\">\n",
       "  <thead>\n",
       "    <tr style=\"text-align: right;\">\n",
       "      <th></th>\n",
       "      <th>ID</th>\n",
       "      <th>sessions</th>\n",
       "      <th>drives</th>\n",
       "      <th>total_sessions</th>\n",
       "      <th>n_days_after_onboarding</th>\n",
       "      <th>total_navigations_fav1</th>\n",
       "      <th>total_navigations_fav2</th>\n",
       "      <th>driven_km_drives</th>\n",
       "      <th>duration_minutes_drives</th>\n",
       "      <th>activity_days</th>\n",
       "      <th>driving_days</th>\n",
       "      <th>km_per_driving_day</th>\n",
       "    </tr>\n",
       "  </thead>\n",
       "  <tbody>\n",
       "    <tr>\n",
       "      <th>count</th>\n",
       "      <td>14999.000000</td>\n",
       "      <td>14999.000000</td>\n",
       "      <td>14999.000000</td>\n",
       "      <td>14999.000000</td>\n",
       "      <td>14999.000000</td>\n",
       "      <td>14999.000000</td>\n",
       "      <td>14999.000000</td>\n",
       "      <td>14999.000000</td>\n",
       "      <td>14999.000000</td>\n",
       "      <td>14999.000000</td>\n",
       "      <td>14999.000000</td>\n",
       "      <td>1.499900e+04</td>\n",
       "    </tr>\n",
       "    <tr>\n",
       "      <th>mean</th>\n",
       "      <td>7499.000000</td>\n",
       "      <td>80.633776</td>\n",
       "      <td>67.281152</td>\n",
       "      <td>189.964447</td>\n",
       "      <td>1749.837789</td>\n",
       "      <td>121.605974</td>\n",
       "      <td>29.672512</td>\n",
       "      <td>4039.340921</td>\n",
       "      <td>1860.976012</td>\n",
       "      <td>15.537102</td>\n",
       "      <td>12.179879</td>\n",
       "      <td>inf</td>\n",
       "    </tr>\n",
       "    <tr>\n",
       "      <th>std</th>\n",
       "      <td>4329.982679</td>\n",
       "      <td>80.699065</td>\n",
       "      <td>65.913872</td>\n",
       "      <td>136.405128</td>\n",
       "      <td>1008.513876</td>\n",
       "      <td>148.121544</td>\n",
       "      <td>45.394651</td>\n",
       "      <td>2502.149334</td>\n",
       "      <td>1446.702288</td>\n",
       "      <td>9.004655</td>\n",
       "      <td>7.824036</td>\n",
       "      <td>NaN</td>\n",
       "    </tr>\n",
       "    <tr>\n",
       "      <th>min</th>\n",
       "      <td>0.000000</td>\n",
       "      <td>0.000000</td>\n",
       "      <td>0.000000</td>\n",
       "      <td>0.220211</td>\n",
       "      <td>4.000000</td>\n",
       "      <td>0.000000</td>\n",
       "      <td>0.000000</td>\n",
       "      <td>60.441250</td>\n",
       "      <td>18.282082</td>\n",
       "      <td>0.000000</td>\n",
       "      <td>0.000000</td>\n",
       "      <td>3.022063e+00</td>\n",
       "    </tr>\n",
       "    <tr>\n",
       "      <th>25%</th>\n",
       "      <td>3749.500000</td>\n",
       "      <td>23.000000</td>\n",
       "      <td>20.000000</td>\n",
       "      <td>90.661156</td>\n",
       "      <td>878.000000</td>\n",
       "      <td>9.000000</td>\n",
       "      <td>0.000000</td>\n",
       "      <td>2212.600607</td>\n",
       "      <td>835.996260</td>\n",
       "      <td>8.000000</td>\n",
       "      <td>5.000000</td>\n",
       "      <td>1.672804e+02</td>\n",
       "    </tr>\n",
       "    <tr>\n",
       "      <th>50%</th>\n",
       "      <td>7499.000000</td>\n",
       "      <td>56.000000</td>\n",
       "      <td>48.000000</td>\n",
       "      <td>159.568115</td>\n",
       "      <td>1741.000000</td>\n",
       "      <td>71.000000</td>\n",
       "      <td>9.000000</td>\n",
       "      <td>3493.858085</td>\n",
       "      <td>1478.249859</td>\n",
       "      <td>16.000000</td>\n",
       "      <td>12.000000</td>\n",
       "      <td>3.231459e+02</td>\n",
       "    </tr>\n",
       "    <tr>\n",
       "      <th>75%</th>\n",
       "      <td>11248.500000</td>\n",
       "      <td>112.000000</td>\n",
       "      <td>93.000000</td>\n",
       "      <td>254.192341</td>\n",
       "      <td>2623.500000</td>\n",
       "      <td>178.000000</td>\n",
       "      <td>43.000000</td>\n",
       "      <td>5289.861262</td>\n",
       "      <td>2464.362632</td>\n",
       "      <td>23.000000</td>\n",
       "      <td>19.000000</td>\n",
       "      <td>7.579257e+02</td>\n",
       "    </tr>\n",
       "    <tr>\n",
       "      <th>max</th>\n",
       "      <td>14998.000000</td>\n",
       "      <td>743.000000</td>\n",
       "      <td>596.000000</td>\n",
       "      <td>1216.154633</td>\n",
       "      <td>3500.000000</td>\n",
       "      <td>1236.000000</td>\n",
       "      <td>415.000000</td>\n",
       "      <td>21183.401890</td>\n",
       "      <td>15851.727160</td>\n",
       "      <td>31.000000</td>\n",
       "      <td>30.000000</td>\n",
       "      <td>inf</td>\n",
       "    </tr>\n",
       "  </tbody>\n",
       "</table>\n",
       "</div>"
      ],
      "text/plain": [
       "                 ID      sessions        drives  total_sessions  \\\n",
       "count  14999.000000  14999.000000  14999.000000    14999.000000   \n",
       "mean    7499.000000     80.633776     67.281152      189.964447   \n",
       "std     4329.982679     80.699065     65.913872      136.405128   \n",
       "min        0.000000      0.000000      0.000000        0.220211   \n",
       "25%     3749.500000     23.000000     20.000000       90.661156   \n",
       "50%     7499.000000     56.000000     48.000000      159.568115   \n",
       "75%    11248.500000    112.000000     93.000000      254.192341   \n",
       "max    14998.000000    743.000000    596.000000     1216.154633   \n",
       "\n",
       "       n_days_after_onboarding  total_navigations_fav1  \\\n",
       "count             14999.000000            14999.000000   \n",
       "mean               1749.837789              121.605974   \n",
       "std                1008.513876              148.121544   \n",
       "min                   4.000000                0.000000   \n",
       "25%                 878.000000                9.000000   \n",
       "50%                1741.000000               71.000000   \n",
       "75%                2623.500000              178.000000   \n",
       "max                3500.000000             1236.000000   \n",
       "\n",
       "       total_navigations_fav2  driven_km_drives  duration_minutes_drives  \\\n",
       "count            14999.000000      14999.000000             14999.000000   \n",
       "mean                29.672512       4039.340921              1860.976012   \n",
       "std                 45.394651       2502.149334              1446.702288   \n",
       "min                  0.000000         60.441250                18.282082   \n",
       "25%                  0.000000       2212.600607               835.996260   \n",
       "50%                  9.000000       3493.858085              1478.249859   \n",
       "75%                 43.000000       5289.861262              2464.362632   \n",
       "max                415.000000      21183.401890             15851.727160   \n",
       "\n",
       "       activity_days  driving_days  km_per_driving_day  \n",
       "count   14999.000000  14999.000000        1.499900e+04  \n",
       "mean       15.537102     12.179879                 inf  \n",
       "std         9.004655      7.824036                 NaN  \n",
       "min         0.000000      0.000000        3.022063e+00  \n",
       "25%         8.000000      5.000000        1.672804e+02  \n",
       "50%        16.000000     12.000000        3.231459e+02  \n",
       "75%        23.000000     19.000000        7.579257e+02  \n",
       "max        31.000000     30.000000                 inf  "
      ]
     },
     "execution_count": 6,
     "metadata": {},
     "output_type": "execute_result"
    }
   ],
   "source": [
    "# 1. Create `km_per_driving_day` feature\n",
    "df['km_per_driving_day'] = df['driven_km_drives']/ df['driving_days']\n",
    "# 2. Get descriptive stats\n",
    "df.describe()"
   ]
  },
  {
   "cell_type": "code",
   "execution_count": 7,
   "metadata": {
    "id": "vv3owriWuuDQ"
   },
   "outputs": [
    {
     "data": {
      "text/html": [
       "<div>\n",
       "<style scoped>\n",
       "    .dataframe tbody tr th:only-of-type {\n",
       "        vertical-align: middle;\n",
       "    }\n",
       "\n",
       "    .dataframe tbody tr th {\n",
       "        vertical-align: top;\n",
       "    }\n",
       "\n",
       "    .dataframe thead th {\n",
       "        text-align: right;\n",
       "    }\n",
       "</style>\n",
       "<table border=\"1\" class=\"dataframe\">\n",
       "  <thead>\n",
       "    <tr style=\"text-align: right;\">\n",
       "      <th></th>\n",
       "      <th>ID</th>\n",
       "      <th>sessions</th>\n",
       "      <th>drives</th>\n",
       "      <th>total_sessions</th>\n",
       "      <th>n_days_after_onboarding</th>\n",
       "      <th>total_navigations_fav1</th>\n",
       "      <th>total_navigations_fav2</th>\n",
       "      <th>driven_km_drives</th>\n",
       "      <th>duration_minutes_drives</th>\n",
       "      <th>activity_days</th>\n",
       "      <th>driving_days</th>\n",
       "      <th>km_per_driving_day</th>\n",
       "    </tr>\n",
       "  </thead>\n",
       "  <tbody>\n",
       "    <tr>\n",
       "      <th>count</th>\n",
       "      <td>14999.000000</td>\n",
       "      <td>14999.000000</td>\n",
       "      <td>14999.000000</td>\n",
       "      <td>14999.000000</td>\n",
       "      <td>14999.000000</td>\n",
       "      <td>14999.000000</td>\n",
       "      <td>14999.000000</td>\n",
       "      <td>14999.000000</td>\n",
       "      <td>14999.000000</td>\n",
       "      <td>14999.000000</td>\n",
       "      <td>14999.000000</td>\n",
       "      <td>14999.000000</td>\n",
       "    </tr>\n",
       "    <tr>\n",
       "      <th>mean</th>\n",
       "      <td>7499.000000</td>\n",
       "      <td>80.633776</td>\n",
       "      <td>67.281152</td>\n",
       "      <td>189.964447</td>\n",
       "      <td>1749.837789</td>\n",
       "      <td>121.605974</td>\n",
       "      <td>29.672512</td>\n",
       "      <td>4039.340921</td>\n",
       "      <td>1860.976012</td>\n",
       "      <td>15.537102</td>\n",
       "      <td>12.179879</td>\n",
       "      <td>578.963113</td>\n",
       "    </tr>\n",
       "    <tr>\n",
       "      <th>std</th>\n",
       "      <td>4329.982679</td>\n",
       "      <td>80.699065</td>\n",
       "      <td>65.913872</td>\n",
       "      <td>136.405128</td>\n",
       "      <td>1008.513876</td>\n",
       "      <td>148.121544</td>\n",
       "      <td>45.394651</td>\n",
       "      <td>2502.149334</td>\n",
       "      <td>1446.702288</td>\n",
       "      <td>9.004655</td>\n",
       "      <td>7.824036</td>\n",
       "      <td>1030.094384</td>\n",
       "    </tr>\n",
       "    <tr>\n",
       "      <th>min</th>\n",
       "      <td>0.000000</td>\n",
       "      <td>0.000000</td>\n",
       "      <td>0.000000</td>\n",
       "      <td>0.220211</td>\n",
       "      <td>4.000000</td>\n",
       "      <td>0.000000</td>\n",
       "      <td>0.000000</td>\n",
       "      <td>60.441250</td>\n",
       "      <td>18.282082</td>\n",
       "      <td>0.000000</td>\n",
       "      <td>0.000000</td>\n",
       "      <td>0.000000</td>\n",
       "    </tr>\n",
       "    <tr>\n",
       "      <th>25%</th>\n",
       "      <td>3749.500000</td>\n",
       "      <td>23.000000</td>\n",
       "      <td>20.000000</td>\n",
       "      <td>90.661156</td>\n",
       "      <td>878.000000</td>\n",
       "      <td>9.000000</td>\n",
       "      <td>0.000000</td>\n",
       "      <td>2212.600607</td>\n",
       "      <td>835.996260</td>\n",
       "      <td>8.000000</td>\n",
       "      <td>5.000000</td>\n",
       "      <td>136.238895</td>\n",
       "    </tr>\n",
       "    <tr>\n",
       "      <th>50%</th>\n",
       "      <td>7499.000000</td>\n",
       "      <td>56.000000</td>\n",
       "      <td>48.000000</td>\n",
       "      <td>159.568115</td>\n",
       "      <td>1741.000000</td>\n",
       "      <td>71.000000</td>\n",
       "      <td>9.000000</td>\n",
       "      <td>3493.858085</td>\n",
       "      <td>1478.249859</td>\n",
       "      <td>16.000000</td>\n",
       "      <td>12.000000</td>\n",
       "      <td>272.889272</td>\n",
       "    </tr>\n",
       "    <tr>\n",
       "      <th>75%</th>\n",
       "      <td>11248.500000</td>\n",
       "      <td>112.000000</td>\n",
       "      <td>93.000000</td>\n",
       "      <td>254.192341</td>\n",
       "      <td>2623.500000</td>\n",
       "      <td>178.000000</td>\n",
       "      <td>43.000000</td>\n",
       "      <td>5289.861262</td>\n",
       "      <td>2464.362632</td>\n",
       "      <td>23.000000</td>\n",
       "      <td>19.000000</td>\n",
       "      <td>558.686918</td>\n",
       "    </tr>\n",
       "    <tr>\n",
       "      <th>max</th>\n",
       "      <td>14998.000000</td>\n",
       "      <td>743.000000</td>\n",
       "      <td>596.000000</td>\n",
       "      <td>1216.154633</td>\n",
       "      <td>3500.000000</td>\n",
       "      <td>1236.000000</td>\n",
       "      <td>415.000000</td>\n",
       "      <td>21183.401890</td>\n",
       "      <td>15851.727160</td>\n",
       "      <td>31.000000</td>\n",
       "      <td>30.000000</td>\n",
       "      <td>15420.234110</td>\n",
       "    </tr>\n",
       "  </tbody>\n",
       "</table>\n",
       "</div>"
      ],
      "text/plain": [
       "                 ID      sessions        drives  total_sessions  \\\n",
       "count  14999.000000  14999.000000  14999.000000    14999.000000   \n",
       "mean    7499.000000     80.633776     67.281152      189.964447   \n",
       "std     4329.982679     80.699065     65.913872      136.405128   \n",
       "min        0.000000      0.000000      0.000000        0.220211   \n",
       "25%     3749.500000     23.000000     20.000000       90.661156   \n",
       "50%     7499.000000     56.000000     48.000000      159.568115   \n",
       "75%    11248.500000    112.000000     93.000000      254.192341   \n",
       "max    14998.000000    743.000000    596.000000     1216.154633   \n",
       "\n",
       "       n_days_after_onboarding  total_navigations_fav1  \\\n",
       "count             14999.000000            14999.000000   \n",
       "mean               1749.837789              121.605974   \n",
       "std                1008.513876              148.121544   \n",
       "min                   4.000000                0.000000   \n",
       "25%                 878.000000                9.000000   \n",
       "50%                1741.000000               71.000000   \n",
       "75%                2623.500000              178.000000   \n",
       "max                3500.000000             1236.000000   \n",
       "\n",
       "       total_navigations_fav2  driven_km_drives  duration_minutes_drives  \\\n",
       "count            14999.000000      14999.000000             14999.000000   \n",
       "mean                29.672512       4039.340921              1860.976012   \n",
       "std                 45.394651       2502.149334              1446.702288   \n",
       "min                  0.000000         60.441250                18.282082   \n",
       "25%                  0.000000       2212.600607               835.996260   \n",
       "50%                  9.000000       3493.858085              1478.249859   \n",
       "75%                 43.000000       5289.861262              2464.362632   \n",
       "max                415.000000      21183.401890             15851.727160   \n",
       "\n",
       "       activity_days  driving_days  km_per_driving_day  \n",
       "count   14999.000000  14999.000000        14999.000000  \n",
       "mean       15.537102     12.179879          578.963113  \n",
       "std         9.004655      7.824036         1030.094384  \n",
       "min         0.000000      0.000000            0.000000  \n",
       "25%         8.000000      5.000000          136.238895  \n",
       "50%        16.000000     12.000000          272.889272  \n",
       "75%        23.000000     19.000000          558.686918  \n",
       "max        31.000000     30.000000        15420.234110  "
      ]
     },
     "execution_count": 7,
     "metadata": {},
     "output_type": "execute_result"
    }
   ],
   "source": [
    "# 1. Convert infinite values to zero\n",
    "df.loc[df['km_per_driving_day'] == np.inf, 'km_per_driving_day'] = 0\n",
    "# 2. Confirm that it worked\n",
    "df.describe()"
   ]
  },
  {
   "cell_type": "code",
   "execution_count": 8,
   "metadata": {
    "id": "4mRefXCF-K_c"
   },
   "outputs": [
    {
     "data": {
      "text/html": [
       "<div>\n",
       "<style scoped>\n",
       "    .dataframe tbody tr th:only-of-type {\n",
       "        vertical-align: middle;\n",
       "    }\n",
       "\n",
       "    .dataframe tbody tr th {\n",
       "        vertical-align: top;\n",
       "    }\n",
       "\n",
       "    .dataframe thead th {\n",
       "        text-align: right;\n",
       "    }\n",
       "</style>\n",
       "<table border=\"1\" class=\"dataframe\">\n",
       "  <thead>\n",
       "    <tr style=\"text-align: right;\">\n",
       "      <th></th>\n",
       "      <th>ID</th>\n",
       "      <th>sessions</th>\n",
       "      <th>drives</th>\n",
       "      <th>total_sessions</th>\n",
       "      <th>n_days_after_onboarding</th>\n",
       "      <th>total_navigations_fav1</th>\n",
       "      <th>total_navigations_fav2</th>\n",
       "      <th>driven_km_drives</th>\n",
       "      <th>duration_minutes_drives</th>\n",
       "      <th>activity_days</th>\n",
       "      <th>driving_days</th>\n",
       "      <th>km_per_driving_day</th>\n",
       "      <th>percent_session_in_last_mont</th>\n",
       "    </tr>\n",
       "  </thead>\n",
       "  <tbody>\n",
       "    <tr>\n",
       "      <th>count</th>\n",
       "      <td>14999.000000</td>\n",
       "      <td>14999.000000</td>\n",
       "      <td>14999.000000</td>\n",
       "      <td>14999.000000</td>\n",
       "      <td>14999.000000</td>\n",
       "      <td>14999.000000</td>\n",
       "      <td>14999.000000</td>\n",
       "      <td>14999.000000</td>\n",
       "      <td>14999.000000</td>\n",
       "      <td>14999.000000</td>\n",
       "      <td>14999.000000</td>\n",
       "      <td>14999.000000</td>\n",
       "      <td>14999.000000</td>\n",
       "    </tr>\n",
       "    <tr>\n",
       "      <th>mean</th>\n",
       "      <td>7499.000000</td>\n",
       "      <td>80.633776</td>\n",
       "      <td>67.281152</td>\n",
       "      <td>189.964447</td>\n",
       "      <td>1749.837789</td>\n",
       "      <td>121.605974</td>\n",
       "      <td>29.672512</td>\n",
       "      <td>4039.340921</td>\n",
       "      <td>1860.976012</td>\n",
       "      <td>15.537102</td>\n",
       "      <td>12.179879</td>\n",
       "      <td>578.963113</td>\n",
       "      <td>0.449255</td>\n",
       "    </tr>\n",
       "    <tr>\n",
       "      <th>std</th>\n",
       "      <td>4329.982679</td>\n",
       "      <td>80.699065</td>\n",
       "      <td>65.913872</td>\n",
       "      <td>136.405128</td>\n",
       "      <td>1008.513876</td>\n",
       "      <td>148.121544</td>\n",
       "      <td>45.394651</td>\n",
       "      <td>2502.149334</td>\n",
       "      <td>1446.702288</td>\n",
       "      <td>9.004655</td>\n",
       "      <td>7.824036</td>\n",
       "      <td>1030.094384</td>\n",
       "      <td>0.286919</td>\n",
       "    </tr>\n",
       "    <tr>\n",
       "      <th>min</th>\n",
       "      <td>0.000000</td>\n",
       "      <td>0.000000</td>\n",
       "      <td>0.000000</td>\n",
       "      <td>0.220211</td>\n",
       "      <td>4.000000</td>\n",
       "      <td>0.000000</td>\n",
       "      <td>0.000000</td>\n",
       "      <td>60.441250</td>\n",
       "      <td>18.282082</td>\n",
       "      <td>0.000000</td>\n",
       "      <td>0.000000</td>\n",
       "      <td>0.000000</td>\n",
       "      <td>0.000000</td>\n",
       "    </tr>\n",
       "    <tr>\n",
       "      <th>25%</th>\n",
       "      <td>3749.500000</td>\n",
       "      <td>23.000000</td>\n",
       "      <td>20.000000</td>\n",
       "      <td>90.661156</td>\n",
       "      <td>878.000000</td>\n",
       "      <td>9.000000</td>\n",
       "      <td>0.000000</td>\n",
       "      <td>2212.600607</td>\n",
       "      <td>835.996260</td>\n",
       "      <td>8.000000</td>\n",
       "      <td>5.000000</td>\n",
       "      <td>136.238895</td>\n",
       "      <td>0.196221</td>\n",
       "    </tr>\n",
       "    <tr>\n",
       "      <th>50%</th>\n",
       "      <td>7499.000000</td>\n",
       "      <td>56.000000</td>\n",
       "      <td>48.000000</td>\n",
       "      <td>159.568115</td>\n",
       "      <td>1741.000000</td>\n",
       "      <td>71.000000</td>\n",
       "      <td>9.000000</td>\n",
       "      <td>3493.858085</td>\n",
       "      <td>1478.249859</td>\n",
       "      <td>16.000000</td>\n",
       "      <td>12.000000</td>\n",
       "      <td>272.889272</td>\n",
       "      <td>0.423097</td>\n",
       "    </tr>\n",
       "    <tr>\n",
       "      <th>75%</th>\n",
       "      <td>11248.500000</td>\n",
       "      <td>112.000000</td>\n",
       "      <td>93.000000</td>\n",
       "      <td>254.192341</td>\n",
       "      <td>2623.500000</td>\n",
       "      <td>178.000000</td>\n",
       "      <td>43.000000</td>\n",
       "      <td>5289.861262</td>\n",
       "      <td>2464.362632</td>\n",
       "      <td>23.000000</td>\n",
       "      <td>19.000000</td>\n",
       "      <td>558.686918</td>\n",
       "      <td>0.687216</td>\n",
       "    </tr>\n",
       "    <tr>\n",
       "      <th>max</th>\n",
       "      <td>14998.000000</td>\n",
       "      <td>743.000000</td>\n",
       "      <td>596.000000</td>\n",
       "      <td>1216.154633</td>\n",
       "      <td>3500.000000</td>\n",
       "      <td>1236.000000</td>\n",
       "      <td>415.000000</td>\n",
       "      <td>21183.401890</td>\n",
       "      <td>15851.727160</td>\n",
       "      <td>31.000000</td>\n",
       "      <td>30.000000</td>\n",
       "      <td>15420.234110</td>\n",
       "      <td>1.530637</td>\n",
       "    </tr>\n",
       "  </tbody>\n",
       "</table>\n",
       "</div>"
      ],
      "text/plain": [
       "                 ID      sessions        drives  total_sessions  \\\n",
       "count  14999.000000  14999.000000  14999.000000    14999.000000   \n",
       "mean    7499.000000     80.633776     67.281152      189.964447   \n",
       "std     4329.982679     80.699065     65.913872      136.405128   \n",
       "min        0.000000      0.000000      0.000000        0.220211   \n",
       "25%     3749.500000     23.000000     20.000000       90.661156   \n",
       "50%     7499.000000     56.000000     48.000000      159.568115   \n",
       "75%    11248.500000    112.000000     93.000000      254.192341   \n",
       "max    14998.000000    743.000000    596.000000     1216.154633   \n",
       "\n",
       "       n_days_after_onboarding  total_navigations_fav1  \\\n",
       "count             14999.000000            14999.000000   \n",
       "mean               1749.837789              121.605974   \n",
       "std                1008.513876              148.121544   \n",
       "min                   4.000000                0.000000   \n",
       "25%                 878.000000                9.000000   \n",
       "50%                1741.000000               71.000000   \n",
       "75%                2623.500000              178.000000   \n",
       "max                3500.000000             1236.000000   \n",
       "\n",
       "       total_navigations_fav2  driven_km_drives  duration_minutes_drives  \\\n",
       "count            14999.000000      14999.000000             14999.000000   \n",
       "mean                29.672512       4039.340921              1860.976012   \n",
       "std                 45.394651       2502.149334              1446.702288   \n",
       "min                  0.000000         60.441250                18.282082   \n",
       "25%                  0.000000       2212.600607               835.996260   \n",
       "50%                  9.000000       3493.858085              1478.249859   \n",
       "75%                 43.000000       5289.861262              2464.362632   \n",
       "max                415.000000      21183.401890             15851.727160   \n",
       "\n",
       "       activity_days  driving_days  km_per_driving_day  \\\n",
       "count   14999.000000  14999.000000        14999.000000   \n",
       "mean       15.537102     12.179879          578.963113   \n",
       "std         9.004655      7.824036         1030.094384   \n",
       "min         0.000000      0.000000            0.000000   \n",
       "25%         8.000000      5.000000          136.238895   \n",
       "50%        16.000000     12.000000          272.889272   \n",
       "75%        23.000000     19.000000          558.686918   \n",
       "max        31.000000     30.000000        15420.234110   \n",
       "\n",
       "       percent_session_in_last_mont  \n",
       "count                  14999.000000  \n",
       "mean                       0.449255  \n",
       "std                        0.286919  \n",
       "min                        0.000000  \n",
       "25%                        0.196221  \n",
       "50%                        0.423097  \n",
       "75%                        0.687216  \n",
       "max                        1.530637  "
      ]
     },
     "execution_count": 8,
     "metadata": {},
     "output_type": "execute_result"
    }
   ],
   "source": [
    "# 1. Create `percent_sessions_in_last_month` feature\n",
    "df['percent_session_in_last_mont'] = df['sessions']/df['total_sessions']\n",
    "# 1. Get descriptive stats\n",
    "df.describe()"
   ]
  },
  {
   "cell_type": "code",
   "execution_count": 9,
   "metadata": {
    "id": "dQdMgikKU-5T"
   },
   "outputs": [],
   "source": [
    "# Create `professional_driver` feature\n",
    "df['professional_driver'] = np.where((df['drives']>=60) & (df['driving_days']>=15),1, 0)"
   ]
  },
  {
   "cell_type": "code",
   "execution_count": 10,
   "metadata": {
    "id": "bWXPMPHSVJQd"
   },
   "outputs": [],
   "source": [
    "# Create `total_sessions_per_day` feature\n",
    "df['total_sessions_per_day'] = df['total_sessions']/df['n_days_after_onboarding']"
   ]
  },
  {
   "cell_type": "code",
   "execution_count": 11,
   "metadata": {
    "id": "h1DFSMNSVKEg"
   },
   "outputs": [
    {
     "data": {
      "text/html": [
       "<div>\n",
       "<style scoped>\n",
       "    .dataframe tbody tr th:only-of-type {\n",
       "        vertical-align: middle;\n",
       "    }\n",
       "\n",
       "    .dataframe tbody tr th {\n",
       "        vertical-align: top;\n",
       "    }\n",
       "\n",
       "    .dataframe thead th {\n",
       "        text-align: right;\n",
       "    }\n",
       "</style>\n",
       "<table border=\"1\" class=\"dataframe\">\n",
       "  <thead>\n",
       "    <tr style=\"text-align: right;\">\n",
       "      <th></th>\n",
       "      <th>ID</th>\n",
       "      <th>sessions</th>\n",
       "      <th>drives</th>\n",
       "      <th>total_sessions</th>\n",
       "      <th>n_days_after_onboarding</th>\n",
       "      <th>total_navigations_fav1</th>\n",
       "      <th>total_navigations_fav2</th>\n",
       "      <th>driven_km_drives</th>\n",
       "      <th>duration_minutes_drives</th>\n",
       "      <th>activity_days</th>\n",
       "      <th>driving_days</th>\n",
       "      <th>km_per_driving_day</th>\n",
       "      <th>percent_session_in_last_mont</th>\n",
       "      <th>professional_driver</th>\n",
       "      <th>total_sessions_per_day</th>\n",
       "    </tr>\n",
       "  </thead>\n",
       "  <tbody>\n",
       "    <tr>\n",
       "      <th>count</th>\n",
       "      <td>14999.000000</td>\n",
       "      <td>14999.000000</td>\n",
       "      <td>14999.000000</td>\n",
       "      <td>14999.000000</td>\n",
       "      <td>14999.000000</td>\n",
       "      <td>14999.000000</td>\n",
       "      <td>14999.000000</td>\n",
       "      <td>14999.000000</td>\n",
       "      <td>14999.000000</td>\n",
       "      <td>14999.000000</td>\n",
       "      <td>14999.000000</td>\n",
       "      <td>14999.000000</td>\n",
       "      <td>14999.000000</td>\n",
       "      <td>14999.000000</td>\n",
       "      <td>14999.000000</td>\n",
       "    </tr>\n",
       "    <tr>\n",
       "      <th>mean</th>\n",
       "      <td>7499.000000</td>\n",
       "      <td>80.633776</td>\n",
       "      <td>67.281152</td>\n",
       "      <td>189.964447</td>\n",
       "      <td>1749.837789</td>\n",
       "      <td>121.605974</td>\n",
       "      <td>29.672512</td>\n",
       "      <td>4039.340921</td>\n",
       "      <td>1860.976012</td>\n",
       "      <td>15.537102</td>\n",
       "      <td>12.179879</td>\n",
       "      <td>578.963113</td>\n",
       "      <td>0.449255</td>\n",
       "      <td>0.172945</td>\n",
       "      <td>0.338698</td>\n",
       "    </tr>\n",
       "    <tr>\n",
       "      <th>std</th>\n",
       "      <td>4329.982679</td>\n",
       "      <td>80.699065</td>\n",
       "      <td>65.913872</td>\n",
       "      <td>136.405128</td>\n",
       "      <td>1008.513876</td>\n",
       "      <td>148.121544</td>\n",
       "      <td>45.394651</td>\n",
       "      <td>2502.149334</td>\n",
       "      <td>1446.702288</td>\n",
       "      <td>9.004655</td>\n",
       "      <td>7.824036</td>\n",
       "      <td>1030.094384</td>\n",
       "      <td>0.286919</td>\n",
       "      <td>0.378212</td>\n",
       "      <td>1.314333</td>\n",
       "    </tr>\n",
       "    <tr>\n",
       "      <th>min</th>\n",
       "      <td>0.000000</td>\n",
       "      <td>0.000000</td>\n",
       "      <td>0.000000</td>\n",
       "      <td>0.220211</td>\n",
       "      <td>4.000000</td>\n",
       "      <td>0.000000</td>\n",
       "      <td>0.000000</td>\n",
       "      <td>60.441250</td>\n",
       "      <td>18.282082</td>\n",
       "      <td>0.000000</td>\n",
       "      <td>0.000000</td>\n",
       "      <td>0.000000</td>\n",
       "      <td>0.000000</td>\n",
       "      <td>0.000000</td>\n",
       "      <td>0.000298</td>\n",
       "    </tr>\n",
       "    <tr>\n",
       "      <th>25%</th>\n",
       "      <td>3749.500000</td>\n",
       "      <td>23.000000</td>\n",
       "      <td>20.000000</td>\n",
       "      <td>90.661156</td>\n",
       "      <td>878.000000</td>\n",
       "      <td>9.000000</td>\n",
       "      <td>0.000000</td>\n",
       "      <td>2212.600607</td>\n",
       "      <td>835.996260</td>\n",
       "      <td>8.000000</td>\n",
       "      <td>5.000000</td>\n",
       "      <td>136.238895</td>\n",
       "      <td>0.196221</td>\n",
       "      <td>0.000000</td>\n",
       "      <td>0.051037</td>\n",
       "    </tr>\n",
       "    <tr>\n",
       "      <th>50%</th>\n",
       "      <td>7499.000000</td>\n",
       "      <td>56.000000</td>\n",
       "      <td>48.000000</td>\n",
       "      <td>159.568115</td>\n",
       "      <td>1741.000000</td>\n",
       "      <td>71.000000</td>\n",
       "      <td>9.000000</td>\n",
       "      <td>3493.858085</td>\n",
       "      <td>1478.249859</td>\n",
       "      <td>16.000000</td>\n",
       "      <td>12.000000</td>\n",
       "      <td>272.889272</td>\n",
       "      <td>0.423097</td>\n",
       "      <td>0.000000</td>\n",
       "      <td>0.100775</td>\n",
       "    </tr>\n",
       "    <tr>\n",
       "      <th>75%</th>\n",
       "      <td>11248.500000</td>\n",
       "      <td>112.000000</td>\n",
       "      <td>93.000000</td>\n",
       "      <td>254.192341</td>\n",
       "      <td>2623.500000</td>\n",
       "      <td>178.000000</td>\n",
       "      <td>43.000000</td>\n",
       "      <td>5289.861262</td>\n",
       "      <td>2464.362632</td>\n",
       "      <td>23.000000</td>\n",
       "      <td>19.000000</td>\n",
       "      <td>558.686918</td>\n",
       "      <td>0.687216</td>\n",
       "      <td>0.000000</td>\n",
       "      <td>0.216269</td>\n",
       "    </tr>\n",
       "    <tr>\n",
       "      <th>max</th>\n",
       "      <td>14998.000000</td>\n",
       "      <td>743.000000</td>\n",
       "      <td>596.000000</td>\n",
       "      <td>1216.154633</td>\n",
       "      <td>3500.000000</td>\n",
       "      <td>1236.000000</td>\n",
       "      <td>415.000000</td>\n",
       "      <td>21183.401890</td>\n",
       "      <td>15851.727160</td>\n",
       "      <td>31.000000</td>\n",
       "      <td>30.000000</td>\n",
       "      <td>15420.234110</td>\n",
       "      <td>1.530637</td>\n",
       "      <td>1.000000</td>\n",
       "      <td>39.763874</td>\n",
       "    </tr>\n",
       "  </tbody>\n",
       "</table>\n",
       "</div>"
      ],
      "text/plain": [
       "                 ID      sessions        drives  total_sessions  \\\n",
       "count  14999.000000  14999.000000  14999.000000    14999.000000   \n",
       "mean    7499.000000     80.633776     67.281152      189.964447   \n",
       "std     4329.982679     80.699065     65.913872      136.405128   \n",
       "min        0.000000      0.000000      0.000000        0.220211   \n",
       "25%     3749.500000     23.000000     20.000000       90.661156   \n",
       "50%     7499.000000     56.000000     48.000000      159.568115   \n",
       "75%    11248.500000    112.000000     93.000000      254.192341   \n",
       "max    14998.000000    743.000000    596.000000     1216.154633   \n",
       "\n",
       "       n_days_after_onboarding  total_navigations_fav1  \\\n",
       "count             14999.000000            14999.000000   \n",
       "mean               1749.837789              121.605974   \n",
       "std                1008.513876              148.121544   \n",
       "min                   4.000000                0.000000   \n",
       "25%                 878.000000                9.000000   \n",
       "50%                1741.000000               71.000000   \n",
       "75%                2623.500000              178.000000   \n",
       "max                3500.000000             1236.000000   \n",
       "\n",
       "       total_navigations_fav2  driven_km_drives  duration_minutes_drives  \\\n",
       "count            14999.000000      14999.000000             14999.000000   \n",
       "mean                29.672512       4039.340921              1860.976012   \n",
       "std                 45.394651       2502.149334              1446.702288   \n",
       "min                  0.000000         60.441250                18.282082   \n",
       "25%                  0.000000       2212.600607               835.996260   \n",
       "50%                  9.000000       3493.858085              1478.249859   \n",
       "75%                 43.000000       5289.861262              2464.362632   \n",
       "max                415.000000      21183.401890             15851.727160   \n",
       "\n",
       "       activity_days  driving_days  km_per_driving_day  \\\n",
       "count   14999.000000  14999.000000        14999.000000   \n",
       "mean       15.537102     12.179879          578.963113   \n",
       "std         9.004655      7.824036         1030.094384   \n",
       "min         0.000000      0.000000            0.000000   \n",
       "25%         8.000000      5.000000          136.238895   \n",
       "50%        16.000000     12.000000          272.889272   \n",
       "75%        23.000000     19.000000          558.686918   \n",
       "max        31.000000     30.000000        15420.234110   \n",
       "\n",
       "       percent_session_in_last_mont  professional_driver  \\\n",
       "count                  14999.000000         14999.000000   \n",
       "mean                       0.449255             0.172945   \n",
       "std                        0.286919             0.378212   \n",
       "min                        0.000000             0.000000   \n",
       "25%                        0.196221             0.000000   \n",
       "50%                        0.423097             0.000000   \n",
       "75%                        0.687216             0.000000   \n",
       "max                        1.530637             1.000000   \n",
       "\n",
       "       total_sessions_per_day  \n",
       "count            14999.000000  \n",
       "mean                 0.338698  \n",
       "std                  1.314333  \n",
       "min                  0.000298  \n",
       "25%                  0.051037  \n",
       "50%                  0.100775  \n",
       "75%                  0.216269  \n",
       "max                 39.763874  "
      ]
     },
     "execution_count": 11,
     "metadata": {},
     "output_type": "execute_result"
    }
   ],
   "source": [
    "# Get descriptive stats\n",
    "df.describe()"
   ]
  },
  {
   "cell_type": "code",
   "execution_count": 12,
   "metadata": {
    "id": "Zu142H3aVc3o"
   },
   "outputs": [],
   "source": [
    "# Create `km_per_hour` feature\n",
    "df['km_per_hour'] = df['driven_km_drives']/ (df['duration_minutes_drives']/60)"
   ]
  },
  {
   "cell_type": "code",
   "execution_count": 13,
   "metadata": {
    "id": "v5R5-MteVlMB"
   },
   "outputs": [
    {
     "data": {
      "text/plain": [
       "count    1.499900e+04\n",
       "mean              inf\n",
       "std               NaN\n",
       "min      1.008775e+00\n",
       "25%      3.323065e+01\n",
       "50%      7.488006e+01\n",
       "75%      1.854667e+02\n",
       "max               inf\n",
       "Name: km_per_drive, dtype: float64"
      ]
     },
     "execution_count": 13,
     "metadata": {},
     "output_type": "execute_result"
    }
   ],
   "source": [
    "# Create `km_per_drive` feature\n",
    "df['km_per_drive']= df['driven_km_drives']/df['drives']\n",
    "df['km_per_drive'].describe()"
   ]
  },
  {
   "cell_type": "code",
   "execution_count": 14,
   "metadata": {
    "id": "PZrHMuPuVmIt"
   },
   "outputs": [
    {
     "data": {
      "text/plain": [
       "count    14999.000000\n",
       "mean       232.817946\n",
       "std        620.622351\n",
       "min          0.000000\n",
       "25%         32.424301\n",
       "50%         72.854343\n",
       "75%        179.347527\n",
       "max      15777.426560\n",
       "Name: km_per_drive, dtype: float64"
      ]
     },
     "execution_count": 14,
     "metadata": {},
     "output_type": "execute_result"
    }
   ],
   "source": [
    "# 1. Convert infinite values to zero\n",
    "df.loc[df['km_per_drive'] == np.inf, 'km_per_drive'] = 0\n",
    "# 2. Confirm that it worked\n",
    "df['km_per_drive'].describe()"
   ]
  },
  {
   "cell_type": "code",
   "execution_count": 16,
   "metadata": {
    "id": "vh22o46AVxd_"
   },
   "outputs": [
    {
     "data": {
      "text/plain": [
       "count    14999.000000\n",
       "mean         1.665439\n",
       "std          8.865666\n",
       "min          0.000000\n",
       "25%          0.203471\n",
       "50%          0.649818\n",
       "75%          1.638526\n",
       "max        777.563629\n",
       "Name: percent_of_sessions_to_favorite, dtype: float64"
      ]
     },
     "execution_count": 16,
     "metadata": {},
     "output_type": "execute_result"
    }
   ],
   "source": [
    "# Create `percent_of_sessions_to_favorite` feature\n",
    "df['percent_of_sessions_to_favorite'] = (df['total_navigations_fav1']+df['total_navigations_fav2'])/df['total_sessions']\n",
    "# Get descriptive stats\n",
    "df['percent_of_sessions_to_favorite'].describe()"
   ]
  },
  {
   "cell_type": "code",
   "execution_count": 17,
   "metadata": {
    "id": "2TdA6SnGWJY-"
   },
   "outputs": [],
   "source": [
    "# Drop rows with missing values\n",
    "df = df.dropna(subset=['label'])"
   ]
  },
  {
   "cell_type": "markdown",
   "metadata": {
    "id": "kxBYyXDSWPkw"
   },
   "source": [
    "### **Variable encoding**"
   ]
  },
  {
   "cell_type": "code",
   "execution_count": 18,
   "metadata": {
    "id": "fntUcR4-aUfH"
   },
   "outputs": [
    {
     "data": {
      "text/html": [
       "<div>\n",
       "<style scoped>\n",
       "    .dataframe tbody tr th:only-of-type {\n",
       "        vertical-align: middle;\n",
       "    }\n",
       "\n",
       "    .dataframe tbody tr th {\n",
       "        vertical-align: top;\n",
       "    }\n",
       "\n",
       "    .dataframe thead th {\n",
       "        text-align: right;\n",
       "    }\n",
       "</style>\n",
       "<table border=\"1\" class=\"dataframe\">\n",
       "  <thead>\n",
       "    <tr style=\"text-align: right;\">\n",
       "      <th></th>\n",
       "      <th>device</th>\n",
       "      <th>device2</th>\n",
       "    </tr>\n",
       "  </thead>\n",
       "  <tbody>\n",
       "    <tr>\n",
       "      <th>14994</th>\n",
       "      <td>iPhone</td>\n",
       "      <td>1</td>\n",
       "    </tr>\n",
       "    <tr>\n",
       "      <th>14995</th>\n",
       "      <td>Android</td>\n",
       "      <td>0</td>\n",
       "    </tr>\n",
       "    <tr>\n",
       "      <th>14996</th>\n",
       "      <td>iPhone</td>\n",
       "      <td>1</td>\n",
       "    </tr>\n",
       "    <tr>\n",
       "      <th>14997</th>\n",
       "      <td>iPhone</td>\n",
       "      <td>1</td>\n",
       "    </tr>\n",
       "    <tr>\n",
       "      <th>14998</th>\n",
       "      <td>iPhone</td>\n",
       "      <td>1</td>\n",
       "    </tr>\n",
       "  </tbody>\n",
       "</table>\n",
       "</div>"
      ],
      "text/plain": [
       "        device  device2\n",
       "14994   iPhone        1\n",
       "14995  Android        0\n",
       "14996   iPhone        1\n",
       "14997   iPhone        1\n",
       "14998   iPhone        1"
      ]
     },
     "execution_count": 18,
     "metadata": {},
     "output_type": "execute_result"
    }
   ],
   "source": [
    "# Create new `device2` variable\n",
    "df['device2'] = np.where(df['device']=='Android', 0, 1)\n",
    "df[['device', 'device2']].tail()"
   ]
  },
  {
   "cell_type": "code",
   "execution_count": 19,
   "metadata": {
    "id": "0jiVjplLb8W-"
   },
   "outputs": [],
   "source": [
    "# Create binary `label2` column\n",
    "df['label2'] = np.where(df['label']=='retained',0,1)"
   ]
  },
  {
   "cell_type": "markdown",
   "metadata": {
    "id": "fD_zG59eaV2c"
   },
   "source": [
    "### **Feature selection**\n"
   ]
  },
  {
   "cell_type": "code",
   "execution_count": 20,
   "metadata": {
    "id": "kf3uGtUQaWSL"
   },
   "outputs": [
    {
     "data": {
      "text/html": [
       "<div>\n",
       "<style scoped>\n",
       "    .dataframe tbody tr th:only-of-type {\n",
       "        vertical-align: middle;\n",
       "    }\n",
       "\n",
       "    .dataframe tbody tr th {\n",
       "        vertical-align: top;\n",
       "    }\n",
       "\n",
       "    .dataframe thead th {\n",
       "        text-align: right;\n",
       "    }\n",
       "</style>\n",
       "<table border=\"1\" class=\"dataframe\">\n",
       "  <thead>\n",
       "    <tr style=\"text-align: right;\">\n",
       "      <th></th>\n",
       "      <th>label</th>\n",
       "      <th>sessions</th>\n",
       "      <th>drives</th>\n",
       "      <th>total_sessions</th>\n",
       "      <th>n_days_after_onboarding</th>\n",
       "      <th>total_navigations_fav1</th>\n",
       "      <th>total_navigations_fav2</th>\n",
       "      <th>driven_km_drives</th>\n",
       "      <th>duration_minutes_drives</th>\n",
       "      <th>activity_days</th>\n",
       "      <th>driving_days</th>\n",
       "      <th>device</th>\n",
       "      <th>km_per_driving_day</th>\n",
       "      <th>percent_session_in_last_mont</th>\n",
       "      <th>professional_driver</th>\n",
       "      <th>total_sessions_per_day</th>\n",
       "      <th>km_per_hour</th>\n",
       "      <th>km_per_drive</th>\n",
       "      <th>percent_of_sessions_to_favorite</th>\n",
       "      <th>device2</th>\n",
       "      <th>label2</th>\n",
       "    </tr>\n",
       "  </thead>\n",
       "  <tbody>\n",
       "    <tr>\n",
       "      <th>0</th>\n",
       "      <td>retained</td>\n",
       "      <td>283</td>\n",
       "      <td>226</td>\n",
       "      <td>296.748273</td>\n",
       "      <td>2276</td>\n",
       "      <td>208</td>\n",
       "      <td>0</td>\n",
       "      <td>2628.845068</td>\n",
       "      <td>1985.775061</td>\n",
       "      <td>28</td>\n",
       "      <td>19</td>\n",
       "      <td>Android</td>\n",
       "      <td>138.360267</td>\n",
       "      <td>0.953670</td>\n",
       "      <td>1</td>\n",
       "      <td>0.130381</td>\n",
       "      <td>79.430298</td>\n",
       "      <td>11.632058</td>\n",
       "      <td>0.700931</td>\n",
       "      <td>0</td>\n",
       "      <td>0</td>\n",
       "    </tr>\n",
       "    <tr>\n",
       "      <th>1</th>\n",
       "      <td>retained</td>\n",
       "      <td>133</td>\n",
       "      <td>107</td>\n",
       "      <td>326.896596</td>\n",
       "      <td>1225</td>\n",
       "      <td>19</td>\n",
       "      <td>64</td>\n",
       "      <td>13715.920550</td>\n",
       "      <td>3160.472914</td>\n",
       "      <td>13</td>\n",
       "      <td>11</td>\n",
       "      <td>iPhone</td>\n",
       "      <td>1246.901868</td>\n",
       "      <td>0.406856</td>\n",
       "      <td>0</td>\n",
       "      <td>0.266854</td>\n",
       "      <td>260.389902</td>\n",
       "      <td>128.186173</td>\n",
       "      <td>0.253903</td>\n",
       "      <td>1</td>\n",
       "      <td>0</td>\n",
       "    </tr>\n",
       "    <tr>\n",
       "      <th>2</th>\n",
       "      <td>retained</td>\n",
       "      <td>114</td>\n",
       "      <td>95</td>\n",
       "      <td>135.522926</td>\n",
       "      <td>2651</td>\n",
       "      <td>0</td>\n",
       "      <td>0</td>\n",
       "      <td>3059.148818</td>\n",
       "      <td>1610.735904</td>\n",
       "      <td>14</td>\n",
       "      <td>8</td>\n",
       "      <td>Android</td>\n",
       "      <td>382.393602</td>\n",
       "      <td>0.841186</td>\n",
       "      <td>0</td>\n",
       "      <td>0.051121</td>\n",
       "      <td>113.953460</td>\n",
       "      <td>32.201567</td>\n",
       "      <td>0.000000</td>\n",
       "      <td>0</td>\n",
       "      <td>0</td>\n",
       "    </tr>\n",
       "    <tr>\n",
       "      <th>3</th>\n",
       "      <td>retained</td>\n",
       "      <td>49</td>\n",
       "      <td>40</td>\n",
       "      <td>67.589221</td>\n",
       "      <td>15</td>\n",
       "      <td>322</td>\n",
       "      <td>7</td>\n",
       "      <td>913.591123</td>\n",
       "      <td>587.196542</td>\n",
       "      <td>7</td>\n",
       "      <td>3</td>\n",
       "      <td>iPhone</td>\n",
       "      <td>304.530374</td>\n",
       "      <td>0.724968</td>\n",
       "      <td>0</td>\n",
       "      <td>4.505948</td>\n",
       "      <td>93.351141</td>\n",
       "      <td>22.839778</td>\n",
       "      <td>4.867640</td>\n",
       "      <td>1</td>\n",
       "      <td>0</td>\n",
       "    </tr>\n",
       "    <tr>\n",
       "      <th>4</th>\n",
       "      <td>retained</td>\n",
       "      <td>84</td>\n",
       "      <td>68</td>\n",
       "      <td>168.247020</td>\n",
       "      <td>1562</td>\n",
       "      <td>166</td>\n",
       "      <td>5</td>\n",
       "      <td>3950.202008</td>\n",
       "      <td>1219.555924</td>\n",
       "      <td>27</td>\n",
       "      <td>18</td>\n",
       "      <td>Android</td>\n",
       "      <td>219.455667</td>\n",
       "      <td>0.499266</td>\n",
       "      <td>1</td>\n",
       "      <td>0.107713</td>\n",
       "      <td>194.342970</td>\n",
       "      <td>58.091206</td>\n",
       "      <td>1.016363</td>\n",
       "      <td>0</td>\n",
       "      <td>0</td>\n",
       "    </tr>\n",
       "    <tr>\n",
       "      <th>...</th>\n",
       "      <td>...</td>\n",
       "      <td>...</td>\n",
       "      <td>...</td>\n",
       "      <td>...</td>\n",
       "      <td>...</td>\n",
       "      <td>...</td>\n",
       "      <td>...</td>\n",
       "      <td>...</td>\n",
       "      <td>...</td>\n",
       "      <td>...</td>\n",
       "      <td>...</td>\n",
       "      <td>...</td>\n",
       "      <td>...</td>\n",
       "      <td>...</td>\n",
       "      <td>...</td>\n",
       "      <td>...</td>\n",
       "      <td>...</td>\n",
       "      <td>...</td>\n",
       "      <td>...</td>\n",
       "      <td>...</td>\n",
       "      <td>...</td>\n",
       "    </tr>\n",
       "    <tr>\n",
       "      <th>14994</th>\n",
       "      <td>retained</td>\n",
       "      <td>60</td>\n",
       "      <td>55</td>\n",
       "      <td>207.875622</td>\n",
       "      <td>140</td>\n",
       "      <td>317</td>\n",
       "      <td>0</td>\n",
       "      <td>2890.496901</td>\n",
       "      <td>2186.155708</td>\n",
       "      <td>25</td>\n",
       "      <td>17</td>\n",
       "      <td>iPhone</td>\n",
       "      <td>170.029229</td>\n",
       "      <td>0.288634</td>\n",
       "      <td>0</td>\n",
       "      <td>1.484826</td>\n",
       "      <td>79.330952</td>\n",
       "      <td>52.554489</td>\n",
       "      <td>1.524950</td>\n",
       "      <td>1</td>\n",
       "      <td>0</td>\n",
       "    </tr>\n",
       "    <tr>\n",
       "      <th>14995</th>\n",
       "      <td>retained</td>\n",
       "      <td>42</td>\n",
       "      <td>35</td>\n",
       "      <td>187.670313</td>\n",
       "      <td>2505</td>\n",
       "      <td>15</td>\n",
       "      <td>10</td>\n",
       "      <td>4062.575194</td>\n",
       "      <td>1208.583193</td>\n",
       "      <td>25</td>\n",
       "      <td>20</td>\n",
       "      <td>Android</td>\n",
       "      <td>203.128760</td>\n",
       "      <td>0.223797</td>\n",
       "      <td>0</td>\n",
       "      <td>0.074918</td>\n",
       "      <td>201.686167</td>\n",
       "      <td>116.073577</td>\n",
       "      <td>0.133212</td>\n",
       "      <td>0</td>\n",
       "      <td>0</td>\n",
       "    </tr>\n",
       "    <tr>\n",
       "      <th>14996</th>\n",
       "      <td>retained</td>\n",
       "      <td>273</td>\n",
       "      <td>219</td>\n",
       "      <td>422.017241</td>\n",
       "      <td>1873</td>\n",
       "      <td>17</td>\n",
       "      <td>0</td>\n",
       "      <td>3097.825028</td>\n",
       "      <td>1031.278706</td>\n",
       "      <td>18</td>\n",
       "      <td>17</td>\n",
       "      <td>iPhone</td>\n",
       "      <td>182.225002</td>\n",
       "      <td>0.646893</td>\n",
       "      <td>1</td>\n",
       "      <td>0.225316</td>\n",
       "      <td>180.232076</td>\n",
       "      <td>14.145320</td>\n",
       "      <td>0.040283</td>\n",
       "      <td>1</td>\n",
       "      <td>0</td>\n",
       "    </tr>\n",
       "    <tr>\n",
       "      <th>14997</th>\n",
       "      <td>churned</td>\n",
       "      <td>149</td>\n",
       "      <td>120</td>\n",
       "      <td>180.524184</td>\n",
       "      <td>3150</td>\n",
       "      <td>45</td>\n",
       "      <td>0</td>\n",
       "      <td>4051.758549</td>\n",
       "      <td>254.187763</td>\n",
       "      <td>6</td>\n",
       "      <td>6</td>\n",
       "      <td>iPhone</td>\n",
       "      <td>675.293092</td>\n",
       "      <td>0.825374</td>\n",
       "      <td>0</td>\n",
       "      <td>0.057309</td>\n",
       "      <td>956.401322</td>\n",
       "      <td>33.764655</td>\n",
       "      <td>0.249274</td>\n",
       "      <td>1</td>\n",
       "      <td>1</td>\n",
       "    </tr>\n",
       "    <tr>\n",
       "      <th>14998</th>\n",
       "      <td>retained</td>\n",
       "      <td>73</td>\n",
       "      <td>58</td>\n",
       "      <td>353.419797</td>\n",
       "      <td>3383</td>\n",
       "      <td>13</td>\n",
       "      <td>51</td>\n",
       "      <td>6030.498773</td>\n",
       "      <td>3042.436423</td>\n",
       "      <td>14</td>\n",
       "      <td>13</td>\n",
       "      <td>iPhone</td>\n",
       "      <td>463.884521</td>\n",
       "      <td>0.206553</td>\n",
       "      <td>0</td>\n",
       "      <td>0.104469</td>\n",
       "      <td>118.927687</td>\n",
       "      <td>103.974117</td>\n",
       "      <td>0.181088</td>\n",
       "      <td>1</td>\n",
       "      <td>0</td>\n",
       "    </tr>\n",
       "  </tbody>\n",
       "</table>\n",
       "<p>14299 rows × 21 columns</p>\n",
       "</div>"
      ],
      "text/plain": [
       "          label  sessions  drives  total_sessions  n_days_after_onboarding  \\\n",
       "0      retained       283     226      296.748273                     2276   \n",
       "1      retained       133     107      326.896596                     1225   \n",
       "2      retained       114      95      135.522926                     2651   \n",
       "3      retained        49      40       67.589221                       15   \n",
       "4      retained        84      68      168.247020                     1562   \n",
       "...         ...       ...     ...             ...                      ...   \n",
       "14994  retained        60      55      207.875622                      140   \n",
       "14995  retained        42      35      187.670313                     2505   \n",
       "14996  retained       273     219      422.017241                     1873   \n",
       "14997   churned       149     120      180.524184                     3150   \n",
       "14998  retained        73      58      353.419797                     3383   \n",
       "\n",
       "       total_navigations_fav1  total_navigations_fav2  driven_km_drives  \\\n",
       "0                         208                       0       2628.845068   \n",
       "1                          19                      64      13715.920550   \n",
       "2                           0                       0       3059.148818   \n",
       "3                         322                       7        913.591123   \n",
       "4                         166                       5       3950.202008   \n",
       "...                       ...                     ...               ...   \n",
       "14994                     317                       0       2890.496901   \n",
       "14995                      15                      10       4062.575194   \n",
       "14996                      17                       0       3097.825028   \n",
       "14997                      45                       0       4051.758549   \n",
       "14998                      13                      51       6030.498773   \n",
       "\n",
       "       duration_minutes_drives  activity_days  driving_days   device  \\\n",
       "0                  1985.775061             28            19  Android   \n",
       "1                  3160.472914             13            11   iPhone   \n",
       "2                  1610.735904             14             8  Android   \n",
       "3                   587.196542              7             3   iPhone   \n",
       "4                  1219.555924             27            18  Android   \n",
       "...                        ...            ...           ...      ...   \n",
       "14994              2186.155708             25            17   iPhone   \n",
       "14995              1208.583193             25            20  Android   \n",
       "14996              1031.278706             18            17   iPhone   \n",
       "14997               254.187763              6             6   iPhone   \n",
       "14998              3042.436423             14            13   iPhone   \n",
       "\n",
       "       km_per_driving_day  percent_session_in_last_mont  professional_driver  \\\n",
       "0              138.360267                      0.953670                    1   \n",
       "1             1246.901868                      0.406856                    0   \n",
       "2              382.393602                      0.841186                    0   \n",
       "3              304.530374                      0.724968                    0   \n",
       "4              219.455667                      0.499266                    1   \n",
       "...                   ...                           ...                  ...   \n",
       "14994          170.029229                      0.288634                    0   \n",
       "14995          203.128760                      0.223797                    0   \n",
       "14996          182.225002                      0.646893                    1   \n",
       "14997          675.293092                      0.825374                    0   \n",
       "14998          463.884521                      0.206553                    0   \n",
       "\n",
       "       total_sessions_per_day  km_per_hour  km_per_drive  \\\n",
       "0                    0.130381    79.430298     11.632058   \n",
       "1                    0.266854   260.389902    128.186173   \n",
       "2                    0.051121   113.953460     32.201567   \n",
       "3                    4.505948    93.351141     22.839778   \n",
       "4                    0.107713   194.342970     58.091206   \n",
       "...                       ...          ...           ...   \n",
       "14994                1.484826    79.330952     52.554489   \n",
       "14995                0.074918   201.686167    116.073577   \n",
       "14996                0.225316   180.232076     14.145320   \n",
       "14997                0.057309   956.401322     33.764655   \n",
       "14998                0.104469   118.927687    103.974117   \n",
       "\n",
       "       percent_of_sessions_to_favorite  device2  label2  \n",
       "0                             0.700931        0       0  \n",
       "1                             0.253903        1       0  \n",
       "2                             0.000000        0       0  \n",
       "3                             4.867640        1       0  \n",
       "4                             1.016363        0       0  \n",
       "...                                ...      ...     ...  \n",
       "14994                         1.524950        1       0  \n",
       "14995                         0.133212        0       0  \n",
       "14996                         0.040283        1       0  \n",
       "14997                         0.249274        1       1  \n",
       "14998                         0.181088        1       0  \n",
       "\n",
       "[14299 rows x 21 columns]"
      ]
     },
     "execution_count": 20,
     "metadata": {},
     "output_type": "execute_result"
    }
   ],
   "source": [
    "# Drop `ID` column\n",
    "df.drop('ID', axis = 1)"
   ]
  },
  {
   "cell_type": "markdown",
   "metadata": {
    "id": "ajj50RCCaXrF"
   },
   "source": [
    "### **Evaluation metric**"
   ]
  },
  {
   "cell_type": "code",
   "execution_count": 21,
   "metadata": {
    "id": "3JkjEYByaYbr"
   },
   "outputs": [
    {
     "data": {
      "text/plain": [
       "label\n",
       "retained    0.822645\n",
       "churned     0.177355\n",
       "Name: proportion, dtype: float64"
      ]
     },
     "execution_count": 21,
     "metadata": {},
     "output_type": "execute_result"
    }
   ],
   "source": [
    "# Get class balance of 'label' col\n",
    "df['label'].value_counts(normalize = True)"
   ]
  },
  {
   "cell_type": "markdown",
   "metadata": {
    "id": "w9vnV1wtaZWJ"
   },
   "source": [
    "Approximately 18% of the users in this dataset churned. This is an unbalanced dataset, but not extremely so. It can be modeled without any class rebalancing.\n",
    "\n",
    "Now, consider which evaluation metric is best. Remember, accuracy might not be the best gauge of performance because a model can have high accuracy on an imbalanced dataset and still fail to predict the minority class.\n",
    "\n",
    "It was already determined that the risks involved in making a false positive prediction are minimal. No one stands to get hurt, lose money, or suffer any other significant consequence if they are predicted to churn. Therefore, select the model based on the recall score."
   ]
  },
  {
   "cell_type": "markdown",
   "metadata": {
    "id": "G5jzGjOS8iiv"
   },
   "source": [
    "### **Modeling workflow and model selection process**"
   ]
  },
  {
   "cell_type": "code",
   "execution_count": 22,
   "metadata": {
    "id": "qLbapbSWDUL-"
   },
   "outputs": [],
   "source": [
    "# 1. Isolate X variables\n",
    "X = df.drop(columns= ['device', 'label','label2'])\n",
    "# 2. Isolate y variable\n",
    "y= df['label2']\n",
    "\n",
    "# 3. Split into train and test sets\n",
    "X_train, X_test, y_train, y_test = train_test_split(X,y, test_size =0.2,stratify = y, random_state = 42 )\n",
    "\n",
    "# 4. Split into train and validate sets\n",
    "X_tr,X_val, y_tr, y_val = train_test_split(X_train,y_train, test_size = 0.25,stratify = y_train, random_state =42 )"
   ]
  },
  {
   "cell_type": "code",
   "execution_count": 23,
   "metadata": {
    "id": "qWIog8v_ckIg"
   },
   "outputs": [
    {
     "name": "stdout",
     "output_type": "stream",
     "text": [
      "11439\n",
      "2860\n",
      "2860\n"
     ]
    }
   ],
   "source": [
    "for x in[X_train, X_val, X_test]:\n",
    "    print(len(x))"
   ]
  },
  {
   "cell_type": "code",
   "execution_count": 24,
   "metadata": {
    "id": "Vj5rJWOv5O3d"
   },
   "outputs": [],
   "source": [
    "# 1. Instantiate the random forest classifier\n",
    "rf = RandomForestClassifier(random_state=42)\n",
    "# 2. Create a dictionary of hyperparameters to tune\n",
    "cv_params = {'max_depth':[None],\n",
    "            'max_features':[1.0],\n",
    "            'max_samples':[1.0],\n",
    "            'min_samples_leaf':[2],\n",
    "            'min_samples_split':[2],\n",
    "            'n_estimators': [300]}\n",
    "# 3. Define a list of scoring metrics to capture\n",
    "scoring = ['accuracy','f1','precision', 'recall']\n",
    "\n",
    "# 4. Instantiate the GridSearchCV object\n",
    "rf_cv = GridSearchCV(rf, cv_params, scoring=scoring, cv=4, refit='recall')"
   ]
  },
  {
   "cell_type": "code",
   "execution_count": 25,
   "metadata": {
    "id": "OXuBiTGi5ZHn"
   },
   "outputs": [
    {
     "name": "stdout",
     "output_type": "stream",
     "text": [
      "CPU times: user 4min 2s, sys: 141 ms, total: 4min 2s\n",
      "Wall time: 4min 2s\n"
     ]
    },
    {
     "data": {
      "text/html": [
       "<style>#sk-container-id-1 {color: black;}#sk-container-id-1 pre{padding: 0;}#sk-container-id-1 div.sk-toggleable {background-color: white;}#sk-container-id-1 label.sk-toggleable__label {cursor: pointer;display: block;width: 100%;margin-bottom: 0;padding: 0.3em;box-sizing: border-box;text-align: center;}#sk-container-id-1 label.sk-toggleable__label-arrow:before {content: \"▸\";float: left;margin-right: 0.25em;color: #696969;}#sk-container-id-1 label.sk-toggleable__label-arrow:hover:before {color: black;}#sk-container-id-1 div.sk-estimator:hover label.sk-toggleable__label-arrow:before {color: black;}#sk-container-id-1 div.sk-toggleable__content {max-height: 0;max-width: 0;overflow: hidden;text-align: left;background-color: #f0f8ff;}#sk-container-id-1 div.sk-toggleable__content pre {margin: 0.2em;color: black;border-radius: 0.25em;background-color: #f0f8ff;}#sk-container-id-1 input.sk-toggleable__control:checked~div.sk-toggleable__content {max-height: 200px;max-width: 100%;overflow: auto;}#sk-container-id-1 input.sk-toggleable__control:checked~label.sk-toggleable__label-arrow:before {content: \"▾\";}#sk-container-id-1 div.sk-estimator input.sk-toggleable__control:checked~label.sk-toggleable__label {background-color: #d4ebff;}#sk-container-id-1 div.sk-label input.sk-toggleable__control:checked~label.sk-toggleable__label {background-color: #d4ebff;}#sk-container-id-1 input.sk-hidden--visually {border: 0;clip: rect(1px 1px 1px 1px);clip: rect(1px, 1px, 1px, 1px);height: 1px;margin: -1px;overflow: hidden;padding: 0;position: absolute;width: 1px;}#sk-container-id-1 div.sk-estimator {font-family: monospace;background-color: #f0f8ff;border: 1px dotted black;border-radius: 0.25em;box-sizing: border-box;margin-bottom: 0.5em;}#sk-container-id-1 div.sk-estimator:hover {background-color: #d4ebff;}#sk-container-id-1 div.sk-parallel-item::after {content: \"\";width: 100%;border-bottom: 1px solid gray;flex-grow: 1;}#sk-container-id-1 div.sk-label:hover label.sk-toggleable__label {background-color: #d4ebff;}#sk-container-id-1 div.sk-serial::before {content: \"\";position: absolute;border-left: 1px solid gray;box-sizing: border-box;top: 0;bottom: 0;left: 50%;z-index: 0;}#sk-container-id-1 div.sk-serial {display: flex;flex-direction: column;align-items: center;background-color: white;padding-right: 0.2em;padding-left: 0.2em;position: relative;}#sk-container-id-1 div.sk-item {position: relative;z-index: 1;}#sk-container-id-1 div.sk-parallel {display: flex;align-items: stretch;justify-content: center;background-color: white;position: relative;}#sk-container-id-1 div.sk-item::before, #sk-container-id-1 div.sk-parallel-item::before {content: \"\";position: absolute;border-left: 1px solid gray;box-sizing: border-box;top: 0;bottom: 0;left: 50%;z-index: -1;}#sk-container-id-1 div.sk-parallel-item {display: flex;flex-direction: column;z-index: 1;position: relative;background-color: white;}#sk-container-id-1 div.sk-parallel-item:first-child::after {align-self: flex-end;width: 50%;}#sk-container-id-1 div.sk-parallel-item:last-child::after {align-self: flex-start;width: 50%;}#sk-container-id-1 div.sk-parallel-item:only-child::after {width: 0;}#sk-container-id-1 div.sk-dashed-wrapped {border: 1px dashed gray;margin: 0 0.4em 0.5em 0.4em;box-sizing: border-box;padding-bottom: 0.4em;background-color: white;}#sk-container-id-1 div.sk-label label {font-family: monospace;font-weight: bold;display: inline-block;line-height: 1.2em;}#sk-container-id-1 div.sk-label-container {text-align: center;}#sk-container-id-1 div.sk-container {/* jupyter's `normalize.less` sets `[hidden] { display: none; }` but bootstrap.min.css set `[hidden] { display: none !important; }` so we also need the `!important` here to be able to override the default hidden behavior on the sphinx rendered scikit-learn.org. See: https://github.com/scikit-learn/scikit-learn/issues/21755 */display: inline-block !important;position: relative;}#sk-container-id-1 div.sk-text-repr-fallback {display: none;}</style><div id=\"sk-container-id-1\" class=\"sk-top-container\"><div class=\"sk-text-repr-fallback\"><pre>GridSearchCV(cv=4, estimator=RandomForestClassifier(random_state=42),\n",
       "             param_grid={&#x27;max_depth&#x27;: [None], &#x27;max_features&#x27;: [1.0],\n",
       "                         &#x27;max_samples&#x27;: [1.0], &#x27;min_samples_leaf&#x27;: [2],\n",
       "                         &#x27;min_samples_split&#x27;: [2], &#x27;n_estimators&#x27;: [300]},\n",
       "             refit=&#x27;recall&#x27;, scoring=[&#x27;accuracy&#x27;, &#x27;f1&#x27;, &#x27;precision&#x27;, &#x27;recall&#x27;])</pre><b>In a Jupyter environment, please rerun this cell to show the HTML representation or trust the notebook. <br />On GitHub, the HTML representation is unable to render, please try loading this page with nbviewer.org.</b></div><div class=\"sk-container\" hidden><div class=\"sk-item sk-dashed-wrapped\"><div class=\"sk-label-container\"><div class=\"sk-label sk-toggleable\"><input class=\"sk-toggleable__control sk-hidden--visually\" id=\"sk-estimator-id-1\" type=\"checkbox\" ><label for=\"sk-estimator-id-1\" class=\"sk-toggleable__label sk-toggleable__label-arrow\">GridSearchCV</label><div class=\"sk-toggleable__content\"><pre>GridSearchCV(cv=4, estimator=RandomForestClassifier(random_state=42),\n",
       "             param_grid={&#x27;max_depth&#x27;: [None], &#x27;max_features&#x27;: [1.0],\n",
       "                         &#x27;max_samples&#x27;: [1.0], &#x27;min_samples_leaf&#x27;: [2],\n",
       "                         &#x27;min_samples_split&#x27;: [2], &#x27;n_estimators&#x27;: [300]},\n",
       "             refit=&#x27;recall&#x27;, scoring=[&#x27;accuracy&#x27;, &#x27;f1&#x27;, &#x27;precision&#x27;, &#x27;recall&#x27;])</pre></div></div></div><div class=\"sk-parallel\"><div class=\"sk-parallel-item\"><div class=\"sk-item\"><div class=\"sk-label-container\"><div class=\"sk-label sk-toggleable\"><input class=\"sk-toggleable__control sk-hidden--visually\" id=\"sk-estimator-id-2\" type=\"checkbox\" ><label for=\"sk-estimator-id-2\" class=\"sk-toggleable__label sk-toggleable__label-arrow\">estimator: RandomForestClassifier</label><div class=\"sk-toggleable__content\"><pre>RandomForestClassifier(random_state=42)</pre></div></div></div><div class=\"sk-serial\"><div class=\"sk-item\"><div class=\"sk-estimator sk-toggleable\"><input class=\"sk-toggleable__control sk-hidden--visually\" id=\"sk-estimator-id-3\" type=\"checkbox\" ><label for=\"sk-estimator-id-3\" class=\"sk-toggleable__label sk-toggleable__label-arrow\">RandomForestClassifier</label><div class=\"sk-toggleable__content\"><pre>RandomForestClassifier(random_state=42)</pre></div></div></div></div></div></div></div></div></div></div>"
      ],
      "text/plain": [
       "GridSearchCV(cv=4, estimator=RandomForestClassifier(random_state=42),\n",
       "             param_grid={'max_depth': [None], 'max_features': [1.0],\n",
       "                         'max_samples': [1.0], 'min_samples_leaf': [2],\n",
       "                         'min_samples_split': [2], 'n_estimators': [300]},\n",
       "             refit='recall', scoring=['accuracy', 'f1', 'precision', 'recall'])"
      ]
     },
     "execution_count": 25,
     "metadata": {},
     "output_type": "execute_result"
    }
   ],
   "source": [
    "%%time\n",
    "rf_cv.fit(X_train, y_train)"
   ]
  },
  {
   "cell_type": "markdown",
   "metadata": {
    "id": "5wHi_YJduQOH"
   },
   "source": [
    "Examine the best average score across all the validation folds."
   ]
  },
  {
   "cell_type": "code",
   "execution_count": 26,
   "metadata": {
    "id": "YtAgrH0zy4CE"
   },
   "outputs": [
    {
     "data": {
      "text/html": [
       "<style>#sk-container-id-2 {color: black;}#sk-container-id-2 pre{padding: 0;}#sk-container-id-2 div.sk-toggleable {background-color: white;}#sk-container-id-2 label.sk-toggleable__label {cursor: pointer;display: block;width: 100%;margin-bottom: 0;padding: 0.3em;box-sizing: border-box;text-align: center;}#sk-container-id-2 label.sk-toggleable__label-arrow:before {content: \"▸\";float: left;margin-right: 0.25em;color: #696969;}#sk-container-id-2 label.sk-toggleable__label-arrow:hover:before {color: black;}#sk-container-id-2 div.sk-estimator:hover label.sk-toggleable__label-arrow:before {color: black;}#sk-container-id-2 div.sk-toggleable__content {max-height: 0;max-width: 0;overflow: hidden;text-align: left;background-color: #f0f8ff;}#sk-container-id-2 div.sk-toggleable__content pre {margin: 0.2em;color: black;border-radius: 0.25em;background-color: #f0f8ff;}#sk-container-id-2 input.sk-toggleable__control:checked~div.sk-toggleable__content {max-height: 200px;max-width: 100%;overflow: auto;}#sk-container-id-2 input.sk-toggleable__control:checked~label.sk-toggleable__label-arrow:before {content: \"▾\";}#sk-container-id-2 div.sk-estimator input.sk-toggleable__control:checked~label.sk-toggleable__label {background-color: #d4ebff;}#sk-container-id-2 div.sk-label input.sk-toggleable__control:checked~label.sk-toggleable__label {background-color: #d4ebff;}#sk-container-id-2 input.sk-hidden--visually {border: 0;clip: rect(1px 1px 1px 1px);clip: rect(1px, 1px, 1px, 1px);height: 1px;margin: -1px;overflow: hidden;padding: 0;position: absolute;width: 1px;}#sk-container-id-2 div.sk-estimator {font-family: monospace;background-color: #f0f8ff;border: 1px dotted black;border-radius: 0.25em;box-sizing: border-box;margin-bottom: 0.5em;}#sk-container-id-2 div.sk-estimator:hover {background-color: #d4ebff;}#sk-container-id-2 div.sk-parallel-item::after {content: \"\";width: 100%;border-bottom: 1px solid gray;flex-grow: 1;}#sk-container-id-2 div.sk-label:hover label.sk-toggleable__label {background-color: #d4ebff;}#sk-container-id-2 div.sk-serial::before {content: \"\";position: absolute;border-left: 1px solid gray;box-sizing: border-box;top: 0;bottom: 0;left: 50%;z-index: 0;}#sk-container-id-2 div.sk-serial {display: flex;flex-direction: column;align-items: center;background-color: white;padding-right: 0.2em;padding-left: 0.2em;position: relative;}#sk-container-id-2 div.sk-item {position: relative;z-index: 1;}#sk-container-id-2 div.sk-parallel {display: flex;align-items: stretch;justify-content: center;background-color: white;position: relative;}#sk-container-id-2 div.sk-item::before, #sk-container-id-2 div.sk-parallel-item::before {content: \"\";position: absolute;border-left: 1px solid gray;box-sizing: border-box;top: 0;bottom: 0;left: 50%;z-index: -1;}#sk-container-id-2 div.sk-parallel-item {display: flex;flex-direction: column;z-index: 1;position: relative;background-color: white;}#sk-container-id-2 div.sk-parallel-item:first-child::after {align-self: flex-end;width: 50%;}#sk-container-id-2 div.sk-parallel-item:last-child::after {align-self: flex-start;width: 50%;}#sk-container-id-2 div.sk-parallel-item:only-child::after {width: 0;}#sk-container-id-2 div.sk-dashed-wrapped {border: 1px dashed gray;margin: 0 0.4em 0.5em 0.4em;box-sizing: border-box;padding-bottom: 0.4em;background-color: white;}#sk-container-id-2 div.sk-label label {font-family: monospace;font-weight: bold;display: inline-block;line-height: 1.2em;}#sk-container-id-2 div.sk-label-container {text-align: center;}#sk-container-id-2 div.sk-container {/* jupyter's `normalize.less` sets `[hidden] { display: none; }` but bootstrap.min.css set `[hidden] { display: none !important; }` so we also need the `!important` here to be able to override the default hidden behavior on the sphinx rendered scikit-learn.org. See: https://github.com/scikit-learn/scikit-learn/issues/21755 */display: inline-block !important;position: relative;}#sk-container-id-2 div.sk-text-repr-fallback {display: none;}</style><div id=\"sk-container-id-2\" class=\"sk-top-container\"><div class=\"sk-text-repr-fallback\"><pre>RandomForestClassifier(max_features=1.0, max_samples=1.0, min_samples_leaf=2,\n",
       "                       n_estimators=300, random_state=42)</pre><b>In a Jupyter environment, please rerun this cell to show the HTML representation or trust the notebook. <br />On GitHub, the HTML representation is unable to render, please try loading this page with nbviewer.org.</b></div><div class=\"sk-container\" hidden><div class=\"sk-item\"><div class=\"sk-estimator sk-toggleable\"><input class=\"sk-toggleable__control sk-hidden--visually\" id=\"sk-estimator-id-4\" type=\"checkbox\" checked><label for=\"sk-estimator-id-4\" class=\"sk-toggleable__label sk-toggleable__label-arrow\">RandomForestClassifier</label><div class=\"sk-toggleable__content\"><pre>RandomForestClassifier(max_features=1.0, max_samples=1.0, min_samples_leaf=2,\n",
       "                       n_estimators=300, random_state=42)</pre></div></div></div></div></div>"
      ],
      "text/plain": [
       "RandomForestClassifier(max_features=1.0, max_samples=1.0, min_samples_leaf=2,\n",
       "                       n_estimators=300, random_state=42)"
      ]
     },
     "execution_count": 26,
     "metadata": {},
     "output_type": "execute_result"
    }
   ],
   "source": [
    "# Examine best score\n",
    "rf_cv.best_estimator_"
   ]
  },
  {
   "cell_type": "markdown",
   "metadata": {
    "id": "heGb51fHh3E5"
   },
   "source": [
    "Examine the best combination of hyperparameters."
   ]
  },
  {
   "cell_type": "code",
   "execution_count": 27,
   "metadata": {
    "id": "kazNtYG4fQOI",
    "scrolled": true
   },
   "outputs": [
    {
     "data": {
      "text/plain": [
       "{'max_depth': None,\n",
       " 'max_features': 1.0,\n",
       " 'max_samples': 1.0,\n",
       " 'min_samples_leaf': 2,\n",
       " 'min_samples_split': 2,\n",
       " 'n_estimators': 300}"
      ]
     },
     "execution_count": 27,
     "metadata": {},
     "output_type": "execute_result"
    }
   ],
   "source": [
    "# Examine best hyperparameter combo\n",
    "rf_cv.best_params_"
   ]
  },
  {
   "cell_type": "code",
   "execution_count": 28,
   "metadata": {
    "id": "u-UodWEOedxz"
   },
   "outputs": [],
   "source": [
    "def make_results(model_name:str, model_object, metric:str):\n",
    "\n",
    "    # Create dictionary that maps input metric to actual metric name in GridSearchCV\n",
    "    metric_dict = {'precision': 'mean_test_precision',\n",
    "                   'recall': 'mean_test_recall',\n",
    "                   'f1': 'mean_test_f1',\n",
    "                   'accuracy': 'mean_test_accuracy',\n",
    "                   }\n",
    "\n",
    "    # Get all the results from the CV and put them in a df\n",
    "    cv_results = pd.DataFrame(model_object.cv_results_)\n",
    "\n",
    "    # Isolate the row of the df with the max(metric) score\n",
    "    best_estimator_results = cv_results.iloc[cv_results[metric_dict[metric]].idxmax(), :]\n",
    "\n",
    "    # Extract accuracy, precision, recall, and f1 score from that row\n",
    "    f1 = best_estimator_results.mean_test_f1\n",
    "    recall = best_estimator_results.mean_test_recall\n",
    "    precision = best_estimator_results.mean_test_precision\n",
    "    accuracy = best_estimator_results.mean_test_accuracy\n",
    "\n",
    "    # Create table of results\n",
    "    table = pd.DataFrame({'model': [model_name],\n",
    "                          'precision': [precision],\n",
    "                          'recall': [recall],\n",
    "                          'F1': [f1],\n",
    "                          'accuracy': [accuracy],\n",
    "                          },\n",
    "                         )\n",
    "\n",
    "    return table"
   ]
  },
  {
   "cell_type": "code",
   "execution_count": 47,
   "metadata": {
    "id": "qAYb2QigiT_h"
   },
   "outputs": [
    {
     "data": {
      "text/html": [
       "<div>\n",
       "<style scoped>\n",
       "    .dataframe tbody tr th:only-of-type {\n",
       "        vertical-align: middle;\n",
       "    }\n",
       "\n",
       "    .dataframe tbody tr th {\n",
       "        vertical-align: top;\n",
       "    }\n",
       "\n",
       "    .dataframe thead th {\n",
       "        text-align: right;\n",
       "    }\n",
       "</style>\n",
       "<table border=\"1\" class=\"dataframe\">\n",
       "  <thead>\n",
       "    <tr style=\"text-align: right;\">\n",
       "      <th></th>\n",
       "      <th>model</th>\n",
       "      <th>precision</th>\n",
       "      <th>recall</th>\n",
       "      <th>F1</th>\n",
       "      <th>accuracy</th>\n",
       "    </tr>\n",
       "  </thead>\n",
       "  <tbody>\n",
       "    <tr>\n",
       "      <th>0</th>\n",
       "      <td>RF cv</td>\n",
       "      <td>0.454622</td>\n",
       "      <td>0.125678</td>\n",
       "      <td>0.196734</td>\n",
       "      <td>0.818078</td>\n",
       "    </tr>\n",
       "  </tbody>\n",
       "</table>\n",
       "</div>"
      ],
      "text/plain": [
       "   model  precision    recall        F1  accuracy\n",
       "0  RF cv   0.454622  0.125678  0.196734  0.818078"
      ]
     },
     "execution_count": 47,
     "metadata": {},
     "output_type": "execute_result"
    }
   ],
   "source": [
    "results = make_results('RF cv', rf_cv, 'recall')\n",
    "results"
   ]
  },
  {
   "cell_type": "markdown",
   "metadata": {
    "id": "SB-yhW9uu7dO"
   },
   "source": [
    "Asside from the accuracy, the scores aren't that good. However, recall that when you built the logistic regression model in the last course the recall was \\~0.09, which means that this model has 33% better recall and about the same accuracy, and it was trained on less data.\n",
    "\n",
    "If you want, feel free to try retuning your hyperparameters to try to get a better score. You might be able to marginally improve the model."
   ]
  },
  {
   "cell_type": "markdown",
   "metadata": {
    "id": "DOlktJ6l4Tgt"
   },
   "source": [
    "#### **XGBoost**"
   ]
  },
  {
   "cell_type": "code",
   "execution_count": 30,
   "metadata": {
    "id": "0ciO48nhiTqO"
   },
   "outputs": [],
   "source": [
    "# 1. Instantiate the XGBoost classifier\n",
    "xgb = XGBClassifier(random_state =42)\n",
    "# 2. Create a dictionary of hyperparameters to tune\n",
    "cv_parmams_xgb =  {'max_depth':[6,12],\n",
    "                  'min_child_weight':[3,5],\n",
    "                  'learning_rate':[0.01,0.1],\n",
    "                  'n_estimators':[300]}\n",
    "# 3. Define a list of scoring metrics to capture\n",
    "scoring = ['accuracy', 'precision', 'recall', 'f1']\n",
    "\n",
    "# 4. Instantiate the GridSearchCV object\n",
    "xgb_cv = GridSearchCV(xgb, cv_parmams_xgb, scoring=scoring, cv=4, refit='recall')"
   ]
  },
  {
   "cell_type": "code",
   "execution_count": 31,
   "metadata": {
    "id": "dYCWs_HX6804"
   },
   "outputs": [
    {
     "data": {
      "text/html": [
       "<style>#sk-container-id-3 {color: black;}#sk-container-id-3 pre{padding: 0;}#sk-container-id-3 div.sk-toggleable {background-color: white;}#sk-container-id-3 label.sk-toggleable__label {cursor: pointer;display: block;width: 100%;margin-bottom: 0;padding: 0.3em;box-sizing: border-box;text-align: center;}#sk-container-id-3 label.sk-toggleable__label-arrow:before {content: \"▸\";float: left;margin-right: 0.25em;color: #696969;}#sk-container-id-3 label.sk-toggleable__label-arrow:hover:before {color: black;}#sk-container-id-3 div.sk-estimator:hover label.sk-toggleable__label-arrow:before {color: black;}#sk-container-id-3 div.sk-toggleable__content {max-height: 0;max-width: 0;overflow: hidden;text-align: left;background-color: #f0f8ff;}#sk-container-id-3 div.sk-toggleable__content pre {margin: 0.2em;color: black;border-radius: 0.25em;background-color: #f0f8ff;}#sk-container-id-3 input.sk-toggleable__control:checked~div.sk-toggleable__content {max-height: 200px;max-width: 100%;overflow: auto;}#sk-container-id-3 input.sk-toggleable__control:checked~label.sk-toggleable__label-arrow:before {content: \"▾\";}#sk-container-id-3 div.sk-estimator input.sk-toggleable__control:checked~label.sk-toggleable__label {background-color: #d4ebff;}#sk-container-id-3 div.sk-label input.sk-toggleable__control:checked~label.sk-toggleable__label {background-color: #d4ebff;}#sk-container-id-3 input.sk-hidden--visually {border: 0;clip: rect(1px 1px 1px 1px);clip: rect(1px, 1px, 1px, 1px);height: 1px;margin: -1px;overflow: hidden;padding: 0;position: absolute;width: 1px;}#sk-container-id-3 div.sk-estimator {font-family: monospace;background-color: #f0f8ff;border: 1px dotted black;border-radius: 0.25em;box-sizing: border-box;margin-bottom: 0.5em;}#sk-container-id-3 div.sk-estimator:hover {background-color: #d4ebff;}#sk-container-id-3 div.sk-parallel-item::after {content: \"\";width: 100%;border-bottom: 1px solid gray;flex-grow: 1;}#sk-container-id-3 div.sk-label:hover label.sk-toggleable__label {background-color: #d4ebff;}#sk-container-id-3 div.sk-serial::before {content: \"\";position: absolute;border-left: 1px solid gray;box-sizing: border-box;top: 0;bottom: 0;left: 50%;z-index: 0;}#sk-container-id-3 div.sk-serial {display: flex;flex-direction: column;align-items: center;background-color: white;padding-right: 0.2em;padding-left: 0.2em;position: relative;}#sk-container-id-3 div.sk-item {position: relative;z-index: 1;}#sk-container-id-3 div.sk-parallel {display: flex;align-items: stretch;justify-content: center;background-color: white;position: relative;}#sk-container-id-3 div.sk-item::before, #sk-container-id-3 div.sk-parallel-item::before {content: \"\";position: absolute;border-left: 1px solid gray;box-sizing: border-box;top: 0;bottom: 0;left: 50%;z-index: -1;}#sk-container-id-3 div.sk-parallel-item {display: flex;flex-direction: column;z-index: 1;position: relative;background-color: white;}#sk-container-id-3 div.sk-parallel-item:first-child::after {align-self: flex-end;width: 50%;}#sk-container-id-3 div.sk-parallel-item:last-child::after {align-self: flex-start;width: 50%;}#sk-container-id-3 div.sk-parallel-item:only-child::after {width: 0;}#sk-container-id-3 div.sk-dashed-wrapped {border: 1px dashed gray;margin: 0 0.4em 0.5em 0.4em;box-sizing: border-box;padding-bottom: 0.4em;background-color: white;}#sk-container-id-3 div.sk-label label {font-family: monospace;font-weight: bold;display: inline-block;line-height: 1.2em;}#sk-container-id-3 div.sk-label-container {text-align: center;}#sk-container-id-3 div.sk-container {/* jupyter's `normalize.less` sets `[hidden] { display: none; }` but bootstrap.min.css set `[hidden] { display: none !important; }` so we also need the `!important` here to be able to override the default hidden behavior on the sphinx rendered scikit-learn.org. See: https://github.com/scikit-learn/scikit-learn/issues/21755 */display: inline-block !important;position: relative;}#sk-container-id-3 div.sk-text-repr-fallback {display: none;}</style><div id=\"sk-container-id-3\" class=\"sk-top-container\"><div class=\"sk-text-repr-fallback\"><pre>GridSearchCV(cv=4,\n",
       "             estimator=XGBClassifier(base_score=None, booster=None,\n",
       "                                     callbacks=None, colsample_bylevel=None,\n",
       "                                     colsample_bynode=None,\n",
       "                                     colsample_bytree=None, device=None,\n",
       "                                     early_stopping_rounds=None,\n",
       "                                     enable_categorical=False, eval_metric=None,\n",
       "                                     feature_types=None, gamma=None,\n",
       "                                     grow_policy=None, importance_type=None,\n",
       "                                     interaction_constraints=None,\n",
       "                                     learning_rate=None,...\n",
       "                                     max_delta_step=None, max_depth=None,\n",
       "                                     max_leaves=None, min_child_weight=None,\n",
       "                                     missing=nan, monotone_constraints=None,\n",
       "                                     multi_strategy=None, n_estimators=None,\n",
       "                                     n_jobs=None, num_parallel_tree=None,\n",
       "                                     random_state=42, ...),\n",
       "             param_grid={&#x27;learning_rate&#x27;: [0.01, 0.1], &#x27;max_depth&#x27;: [6, 12],\n",
       "                         &#x27;min_child_weight&#x27;: [3, 5], &#x27;n_estimators&#x27;: [300]},\n",
       "             refit=&#x27;recall&#x27;, scoring=[&#x27;accuracy&#x27;, &#x27;precision&#x27;, &#x27;recall&#x27;, &#x27;f1&#x27;])</pre><b>In a Jupyter environment, please rerun this cell to show the HTML representation or trust the notebook. <br />On GitHub, the HTML representation is unable to render, please try loading this page with nbviewer.org.</b></div><div class=\"sk-container\" hidden><div class=\"sk-item sk-dashed-wrapped\"><div class=\"sk-label-container\"><div class=\"sk-label sk-toggleable\"><input class=\"sk-toggleable__control sk-hidden--visually\" id=\"sk-estimator-id-5\" type=\"checkbox\" ><label for=\"sk-estimator-id-5\" class=\"sk-toggleable__label sk-toggleable__label-arrow\">GridSearchCV</label><div class=\"sk-toggleable__content\"><pre>GridSearchCV(cv=4,\n",
       "             estimator=XGBClassifier(base_score=None, booster=None,\n",
       "                                     callbacks=None, colsample_bylevel=None,\n",
       "                                     colsample_bynode=None,\n",
       "                                     colsample_bytree=None, device=None,\n",
       "                                     early_stopping_rounds=None,\n",
       "                                     enable_categorical=False, eval_metric=None,\n",
       "                                     feature_types=None, gamma=None,\n",
       "                                     grow_policy=None, importance_type=None,\n",
       "                                     interaction_constraints=None,\n",
       "                                     learning_rate=None,...\n",
       "                                     max_delta_step=None, max_depth=None,\n",
       "                                     max_leaves=None, min_child_weight=None,\n",
       "                                     missing=nan, monotone_constraints=None,\n",
       "                                     multi_strategy=None, n_estimators=None,\n",
       "                                     n_jobs=None, num_parallel_tree=None,\n",
       "                                     random_state=42, ...),\n",
       "             param_grid={&#x27;learning_rate&#x27;: [0.01, 0.1], &#x27;max_depth&#x27;: [6, 12],\n",
       "                         &#x27;min_child_weight&#x27;: [3, 5], &#x27;n_estimators&#x27;: [300]},\n",
       "             refit=&#x27;recall&#x27;, scoring=[&#x27;accuracy&#x27;, &#x27;precision&#x27;, &#x27;recall&#x27;, &#x27;f1&#x27;])</pre></div></div></div><div class=\"sk-parallel\"><div class=\"sk-parallel-item\"><div class=\"sk-item\"><div class=\"sk-label-container\"><div class=\"sk-label sk-toggleable\"><input class=\"sk-toggleable__control sk-hidden--visually\" id=\"sk-estimator-id-6\" type=\"checkbox\" ><label for=\"sk-estimator-id-6\" class=\"sk-toggleable__label sk-toggleable__label-arrow\">estimator: XGBClassifier</label><div class=\"sk-toggleable__content\"><pre>XGBClassifier(base_score=None, booster=None, callbacks=None,\n",
       "              colsample_bylevel=None, colsample_bynode=None,\n",
       "              colsample_bytree=None, device=None, early_stopping_rounds=None,\n",
       "              enable_categorical=False, eval_metric=None, feature_types=None,\n",
       "              gamma=None, grow_policy=None, importance_type=None,\n",
       "              interaction_constraints=None, learning_rate=None, max_bin=None,\n",
       "              max_cat_threshold=None, max_cat_to_onehot=None,\n",
       "              max_delta_step=None, max_depth=None, max_leaves=None,\n",
       "              min_child_weight=None, missing=nan, monotone_constraints=None,\n",
       "              multi_strategy=None, n_estimators=None, n_jobs=None,\n",
       "              num_parallel_tree=None, random_state=42, ...)</pre></div></div></div><div class=\"sk-serial\"><div class=\"sk-item\"><div class=\"sk-estimator sk-toggleable\"><input class=\"sk-toggleable__control sk-hidden--visually\" id=\"sk-estimator-id-7\" type=\"checkbox\" ><label for=\"sk-estimator-id-7\" class=\"sk-toggleable__label sk-toggleable__label-arrow\">XGBClassifier</label><div class=\"sk-toggleable__content\"><pre>XGBClassifier(base_score=None, booster=None, callbacks=None,\n",
       "              colsample_bylevel=None, colsample_bynode=None,\n",
       "              colsample_bytree=None, device=None, early_stopping_rounds=None,\n",
       "              enable_categorical=False, eval_metric=None, feature_types=None,\n",
       "              gamma=None, grow_policy=None, importance_type=None,\n",
       "              interaction_constraints=None, learning_rate=None, max_bin=None,\n",
       "              max_cat_threshold=None, max_cat_to_onehot=None,\n",
       "              max_delta_step=None, max_depth=None, max_leaves=None,\n",
       "              min_child_weight=None, missing=nan, monotone_constraints=None,\n",
       "              multi_strategy=None, n_estimators=None, n_jobs=None,\n",
       "              num_parallel_tree=None, random_state=42, ...)</pre></div></div></div></div></div></div></div></div></div></div>"
      ],
      "text/plain": [
       "GridSearchCV(cv=4,\n",
       "             estimator=XGBClassifier(base_score=None, booster=None,\n",
       "                                     callbacks=None, colsample_bylevel=None,\n",
       "                                     colsample_bynode=None,\n",
       "                                     colsample_bytree=None, device=None,\n",
       "                                     early_stopping_rounds=None,\n",
       "                                     enable_categorical=False, eval_metric=None,\n",
       "                                     feature_types=None, gamma=None,\n",
       "                                     grow_policy=None, importance_type=None,\n",
       "                                     interaction_constraints=None,\n",
       "                                     learning_rate=None,...\n",
       "                                     max_delta_step=None, max_depth=None,\n",
       "                                     max_leaves=None, min_child_weight=None,\n",
       "                                     missing=nan, monotone_constraints=None,\n",
       "                                     multi_strategy=None, n_estimators=None,\n",
       "                                     n_jobs=None, num_parallel_tree=None,\n",
       "                                     random_state=42, ...),\n",
       "             param_grid={'learning_rate': [0.01, 0.1], 'max_depth': [6, 12],\n",
       "                         'min_child_weight': [3, 5], 'n_estimators': [300]},\n",
       "             refit='recall', scoring=['accuracy', 'precision', 'recall', 'f1'])"
      ]
     },
     "execution_count": 31,
     "metadata": {},
     "output_type": "execute_result"
    }
   ],
   "source": [
    "xgb_cv.fit(X_train,y_train)"
   ]
  },
  {
   "cell_type": "code",
   "execution_count": 32,
   "metadata": {
    "id": "UFLTmIDm6805"
   },
   "outputs": [
    {
     "data": {
      "text/plain": [
       "0.15918285732034976"
      ]
     },
     "execution_count": 32,
     "metadata": {},
     "output_type": "execute_result"
    }
   ],
   "source": [
    "# Examine best score\n",
    "xgb_cv.best_score_"
   ]
  },
  {
   "cell_type": "code",
   "execution_count": 33,
   "metadata": {
    "id": "cdPUCuND6805"
   },
   "outputs": [
    {
     "data": {
      "text/plain": [
       "{'learning_rate': 0.1,\n",
       " 'max_depth': 6,\n",
       " 'min_child_weight': 5,\n",
       " 'n_estimators': 300}"
      ]
     },
     "execution_count": 33,
     "metadata": {},
     "output_type": "execute_result"
    }
   ],
   "source": [
    "# Examine best parameters\n",
    "xgb_cv.best_params_"
   ]
  },
  {
   "cell_type": "code",
   "execution_count": 48,
   "metadata": {
    "id": "QL19dH2h7KdD"
   },
   "outputs": [
    {
     "data": {
      "text/html": [
       "<div>\n",
       "<style scoped>\n",
       "    .dataframe tbody tr th:only-of-type {\n",
       "        vertical-align: middle;\n",
       "    }\n",
       "\n",
       "    .dataframe tbody tr th {\n",
       "        vertical-align: top;\n",
       "    }\n",
       "\n",
       "    .dataframe thead th {\n",
       "        text-align: right;\n",
       "    }\n",
       "</style>\n",
       "<table border=\"1\" class=\"dataframe\">\n",
       "  <thead>\n",
       "    <tr style=\"text-align: right;\">\n",
       "      <th></th>\n",
       "      <th>model</th>\n",
       "      <th>precision</th>\n",
       "      <th>recall</th>\n",
       "      <th>F1</th>\n",
       "      <th>accuracy</th>\n",
       "    </tr>\n",
       "  </thead>\n",
       "  <tbody>\n",
       "    <tr>\n",
       "      <th>0</th>\n",
       "      <td>RF cv</td>\n",
       "      <td>0.454622</td>\n",
       "      <td>0.125678</td>\n",
       "      <td>0.196734</td>\n",
       "      <td>0.818078</td>\n",
       "    </tr>\n",
       "    <tr>\n",
       "      <th>0</th>\n",
       "      <td>XGB cv</td>\n",
       "      <td>0.424115</td>\n",
       "      <td>0.159183</td>\n",
       "      <td>0.231274</td>\n",
       "      <td>0.812483</td>\n",
       "    </tr>\n",
       "  </tbody>\n",
       "</table>\n",
       "</div>"
      ],
      "text/plain": [
       "    model  precision    recall        F1  accuracy\n",
       "0   RF cv   0.454622  0.125678  0.196734  0.818078\n",
       "0  XGB cv   0.424115  0.159183  0.231274  0.812483"
      ]
     },
     "execution_count": 48,
     "metadata": {},
     "output_type": "execute_result"
    }
   ],
   "source": [
    "# Call 'make_results()' on the GridSearch object\n",
    "xgb_cv_results = make_results('XGB cv', xgb_cv, 'recall')\n",
    "results = pd.concat([results, xgb_cv_results], axis=0)\n",
    "results"
   ]
  },
  {
   "cell_type": "markdown",
   "metadata": {
    "id": "c5IRnMO27KdD"
   },
   "source": [
    "This model fit the data even better than the random forest model. The recall score is nearly double the recall score from the logistic regression model from the previous course, and it's almost 50% better than the random forest model's recall score, while maintaining a similar accuracy and precision score."
   ]
  },
  {
   "cell_type": "markdown",
   "metadata": {
    "id": "NfX0SjJffkh1"
   },
   "source": [
    "### **Model selection**\n",
    "\n",
    "Now, use the best random forest model and the best XGBoost model to predict on the validation data. Whichever performs better will be selected as the champion model."
   ]
  },
  {
   "cell_type": "markdown",
   "metadata": {
    "id": "chgR3Tx8fn1s"
   },
   "source": [
    "#### **Random forest**"
   ]
  },
  {
   "cell_type": "code",
   "execution_count": 35,
   "metadata": {
    "id": "DUswawM2fyAf"
   },
   "outputs": [],
   "source": [
    "# Use random forest model to predict on validation data\n",
    "y_pred = rf_cv.best_estimator_.predict(X_val)"
   ]
  },
  {
   "cell_type": "code",
   "execution_count": 1,
   "metadata": {
    "id": "AJ9mCl0Uf4P4"
   },
   "outputs": [],
   "source": [
    "def get_test_scores(model_name:str, preds, y_test_data):\n",
    "    accuracy = accuracy_score(y_test_data, preds)\n",
    "    precision = precision_score(y_test_data, preds)\n",
    "    recall = recall_score(y_test_data, preds)\n",
    "    f1 = f1_score(y_test_data, preds)\n",
    "\n",
    "    table = pd.DataFrame({'model': [model_name],\n",
    "                          'precision': [precision],\n",
    "                          'recall': [recall],\n",
    "                          'F1': [f1],\n",
    "                          'accuracy': [accuracy]\n",
    "                          })\n",
    "\n",
    "    return table"
   ]
  },
  {
   "cell_type": "code",
   "execution_count": 55,
   "metadata": {
    "id": "22ANR4ZHf5NK"
   },
   "outputs": [
    {
     "data": {
      "text/html": [
       "<div>\n",
       "<style scoped>\n",
       "    .dataframe tbody tr th:only-of-type {\n",
       "        vertical-align: middle;\n",
       "    }\n",
       "\n",
       "    .dataframe tbody tr th {\n",
       "        vertical-align: top;\n",
       "    }\n",
       "\n",
       "    .dataframe thead th {\n",
       "        text-align: right;\n",
       "    }\n",
       "</style>\n",
       "<table border=\"1\" class=\"dataframe\">\n",
       "  <thead>\n",
       "    <tr style=\"text-align: right;\">\n",
       "      <th></th>\n",
       "      <th>model</th>\n",
       "      <th>precision</th>\n",
       "      <th>recall</th>\n",
       "      <th>F1</th>\n",
       "      <th>accuracy</th>\n",
       "    </tr>\n",
       "  </thead>\n",
       "  <tbody>\n",
       "    <tr>\n",
       "      <th>0</th>\n",
       "      <td>RF cv</td>\n",
       "      <td>0.454622</td>\n",
       "      <td>0.125678</td>\n",
       "      <td>0.196734</td>\n",
       "      <td>0.818078</td>\n",
       "    </tr>\n",
       "    <tr>\n",
       "      <th>0</th>\n",
       "      <td>XGB cv</td>\n",
       "      <td>0.424115</td>\n",
       "      <td>0.159183</td>\n",
       "      <td>0.231274</td>\n",
       "      <td>0.812483</td>\n",
       "    </tr>\n",
       "    <tr>\n",
       "      <th>0</th>\n",
       "      <td>RF val</td>\n",
       "      <td>1.000000</td>\n",
       "      <td>0.958580</td>\n",
       "      <td>0.978852</td>\n",
       "      <td>0.992657</td>\n",
       "    </tr>\n",
       "  </tbody>\n",
       "</table>\n",
       "</div>"
      ],
      "text/plain": [
       "    model  precision    recall        F1  accuracy\n",
       "0   RF cv   0.454622  0.125678  0.196734  0.818078\n",
       "0  XGB cv   0.424115  0.159183  0.231274  0.812483\n",
       "0  RF val   1.000000  0.958580  0.978852  0.992657"
      ]
     },
     "execution_count": 55,
     "metadata": {},
     "output_type": "execute_result"
    }
   ],
   "source": [
    "# Get validation scores for RF model\n",
    "rf_val_scores = get_test_scores('RF val', y_pred, y_val)\n",
    "\n",
    "# Append to the results table\n",
    "results_1 = pd.concat([results, rf_val_scores], axis=0)\n",
    "results_1"
   ]
  },
  {
   "cell_type": "markdown",
   "metadata": {
    "id": "yDeuk16igBD0"
   },
   "source": [
    "Notice that the scores went down from the training scores across all metrics, but only by very little. This means that the model did not overfit the training data."
   ]
  },
  {
   "cell_type": "markdown",
   "metadata": {
    "id": "D8h2s5RpgEER"
   },
   "source": [
    "#### **XGBoost**"
   ]
  },
  {
   "cell_type": "code",
   "execution_count": 56,
   "metadata": {
    "id": "mQoTuRkngHjp"
   },
   "outputs": [
    {
     "data": {
      "text/html": [
       "<div>\n",
       "<style scoped>\n",
       "    .dataframe tbody tr th:only-of-type {\n",
       "        vertical-align: middle;\n",
       "    }\n",
       "\n",
       "    .dataframe tbody tr th {\n",
       "        vertical-align: top;\n",
       "    }\n",
       "\n",
       "    .dataframe thead th {\n",
       "        text-align: right;\n",
       "    }\n",
       "</style>\n",
       "<table border=\"1\" class=\"dataframe\">\n",
       "  <thead>\n",
       "    <tr style=\"text-align: right;\">\n",
       "      <th></th>\n",
       "      <th>model</th>\n",
       "      <th>precision</th>\n",
       "      <th>recall</th>\n",
       "      <th>F1</th>\n",
       "      <th>accuracy</th>\n",
       "    </tr>\n",
       "  </thead>\n",
       "  <tbody>\n",
       "    <tr>\n",
       "      <th>0</th>\n",
       "      <td>RF cv</td>\n",
       "      <td>0.454622</td>\n",
       "      <td>0.125678</td>\n",
       "      <td>0.196734</td>\n",
       "      <td>0.818078</td>\n",
       "    </tr>\n",
       "    <tr>\n",
       "      <th>0</th>\n",
       "      <td>XGB cv</td>\n",
       "      <td>0.424115</td>\n",
       "      <td>0.159183</td>\n",
       "      <td>0.231274</td>\n",
       "      <td>0.812483</td>\n",
       "    </tr>\n",
       "    <tr>\n",
       "      <th>0</th>\n",
       "      <td>RF val</td>\n",
       "      <td>1.000000</td>\n",
       "      <td>0.958580</td>\n",
       "      <td>0.978852</td>\n",
       "      <td>0.992657</td>\n",
       "    </tr>\n",
       "    <tr>\n",
       "      <th>0</th>\n",
       "      <td>XGB val</td>\n",
       "      <td>0.993671</td>\n",
       "      <td>0.619329</td>\n",
       "      <td>0.763062</td>\n",
       "      <td>0.931818</td>\n",
       "    </tr>\n",
       "  </tbody>\n",
       "</table>\n",
       "</div>"
      ],
      "text/plain": [
       "     model  precision    recall        F1  accuracy\n",
       "0    RF cv   0.454622  0.125678  0.196734  0.818078\n",
       "0   XGB cv   0.424115  0.159183  0.231274  0.812483\n",
       "0   RF val   1.000000  0.958580  0.978852  0.992657\n",
       "0  XGB val   0.993671  0.619329  0.763062  0.931818"
      ]
     },
     "execution_count": 56,
     "metadata": {},
     "output_type": "execute_result"
    }
   ],
   "source": [
    "# Use XGBoost model to predict on validation data\n",
    "xgb_val_preds = xgb_cv.best_estimator_.predict(X_val)\n",
    "\n",
    "# Get validation scores for XGBoost model\n",
    "xgb_val_scores = get_test_scores('XGB val', xgb_val_preds, y_val)\n",
    "\n",
    "# Append to the results table\n",
    "results_1 = pd.concat([results_1, xgb_val_scores], axis=0)\n",
    "results_1"
   ]
  },
  {
   "cell_type": "markdown",
   "metadata": {
    "id": "GspkQqUNgIm3"
   },
   "source": [
    "Just like with the random forest model, the XGBoost model's validation scores were lower, but only very slightly. It is still the clear champion."
   ]
  },
  {
   "cell_type": "code",
   "execution_count": 57,
   "metadata": {
    "id": "7BkheTIsgU2b"
   },
   "outputs": [
    {
     "data": {
      "text/html": [
       "<div>\n",
       "<style scoped>\n",
       "    .dataframe tbody tr th:only-of-type {\n",
       "        vertical-align: middle;\n",
       "    }\n",
       "\n",
       "    .dataframe tbody tr th {\n",
       "        vertical-align: top;\n",
       "    }\n",
       "\n",
       "    .dataframe thead th {\n",
       "        text-align: right;\n",
       "    }\n",
       "</style>\n",
       "<table border=\"1\" class=\"dataframe\">\n",
       "  <thead>\n",
       "    <tr style=\"text-align: right;\">\n",
       "      <th></th>\n",
       "      <th>model</th>\n",
       "      <th>precision</th>\n",
       "      <th>recall</th>\n",
       "      <th>F1</th>\n",
       "      <th>accuracy</th>\n",
       "    </tr>\n",
       "  </thead>\n",
       "  <tbody>\n",
       "    <tr>\n",
       "      <th>0</th>\n",
       "      <td>RF cv</td>\n",
       "      <td>0.454622</td>\n",
       "      <td>0.125678</td>\n",
       "      <td>0.196734</td>\n",
       "      <td>0.818078</td>\n",
       "    </tr>\n",
       "    <tr>\n",
       "      <th>0</th>\n",
       "      <td>XGB cv</td>\n",
       "      <td>0.424115</td>\n",
       "      <td>0.159183</td>\n",
       "      <td>0.231274</td>\n",
       "      <td>0.812483</td>\n",
       "    </tr>\n",
       "    <tr>\n",
       "      <th>0</th>\n",
       "      <td>RF val</td>\n",
       "      <td>1.000000</td>\n",
       "      <td>0.958580</td>\n",
       "      <td>0.978852</td>\n",
       "      <td>0.992657</td>\n",
       "    </tr>\n",
       "    <tr>\n",
       "      <th>0</th>\n",
       "      <td>XGB val</td>\n",
       "      <td>0.993671</td>\n",
       "      <td>0.619329</td>\n",
       "      <td>0.763062</td>\n",
       "      <td>0.931818</td>\n",
       "    </tr>\n",
       "    <tr>\n",
       "      <th>0</th>\n",
       "      <td>XGB test</td>\n",
       "      <td>0.443299</td>\n",
       "      <td>0.169625</td>\n",
       "      <td>0.245364</td>\n",
       "      <td>0.815035</td>\n",
       "    </tr>\n",
       "  </tbody>\n",
       "</table>\n",
       "</div>"
      ],
      "text/plain": [
       "      model  precision    recall        F1  accuracy\n",
       "0     RF cv   0.454622  0.125678  0.196734  0.818078\n",
       "0    XGB cv   0.424115  0.159183  0.231274  0.812483\n",
       "0    RF val   1.000000  0.958580  0.978852  0.992657\n",
       "0   XGB val   0.993671  0.619329  0.763062  0.931818\n",
       "0  XGB test   0.443299  0.169625  0.245364  0.815035"
      ]
     },
     "execution_count": 57,
     "metadata": {},
     "output_type": "execute_result"
    }
   ],
   "source": [
    "# Use XGBoost model to predict on test data\n",
    "xgb_test_preds = xgb_cv.best_estimator_.predict(X_test)\n",
    "\n",
    "# Get test scores for XGBoost model\n",
    "xgb_test_scores = get_test_scores('XGB test', xgb_test_preds, y_test)\n",
    "\n",
    "# Append to the results table\n",
    "results_1 = pd.concat([results_1, xgb_test_scores], axis=0)\n",
    "results_1"
   ]
  },
  {
   "cell_type": "markdown",
   "metadata": {
    "id": "F8L_LyIbgV1I"
   },
   "source": [
    "The recall was exactly the same as it was on the validation data, but the precision declined notably, which caused all of the other scores to drop slightly. Nonetheless, this is stil within the acceptable range for performance discrepancy between validation and test scores."
   ]
  },
  {
   "cell_type": "markdown",
   "metadata": {
    "id": "S5GNoz_QgWug"
   },
   "source": [
    "### **Confusion matrix**\n",
    "\n",
    "Plot a confusion matrix of the champion model's predictions on the test data."
   ]
  },
  {
   "cell_type": "code",
   "execution_count": null,
   "metadata": {
    "id": "WF3KErX8gXPc"
   },
   "outputs": [],
   "source": [
    "# Generate array of values for confusion matrix\n",
    "cm = confusion_matrix(y_test, xgb_test_preds, labels=xgb_cv.classes_)\n",
    "\n",
    "# Plot confusion matrix\n",
    "disp = ConfusionMatrixDisplay(confusion_matrix=cm,\n",
    "                             display_labels=['retained', 'churned'])\n",
    "disp.plot();"
   ]
  },
  {
   "cell_type": "markdown",
   "metadata": {
    "id": "6xL4OujkgYC3"
   },
   "source": [
    "The model predicted three times as many false negatives than it did false positives, and it correctly identified only 16.6% of the users who actually churned."
   ]
  },
  {
   "cell_type": "markdown",
   "metadata": {
    "id": "P33INGPmgY1o"
   },
   "source": [
    "### **Feature importance**\n",
    "\n",
    "Use the `plot_importance` function to inspect the most important features of your final model."
   ]
  },
  {
   "cell_type": "code",
   "execution_count": null,
   "metadata": {
    "id": "N4fc2i8XgZoE"
   },
   "outputs": [],
   "source": [
    "plot_importance(xgb_cv.best_estimator_);"
   ]
  },
  {
   "cell_type": "markdown",
   "metadata": {
    "id": "EU3GIZNrga5z"
   },
   "source": [
    "The XGBoost model made more use of many of the features than did the logistic regression model from the previous course, which weighted a single feature (`activity_days`) very heavily in its final prediction.\n",
    "\n",
    "If anything, this underscores the importance of feature engineering. Notice that engineered features accounted for six of the top 10 features (and three of the top five). Feature engineering is often one of the best and easiest ways to boost model performance.\n",
    "\n",
    "Also, note that the important features in one model might not be the same as the important features in another model. That's why you shouldn't discount features as unimportant without thoroughly examining them and understanding their relationship with the dependent variable, if possible. These discrepancies between features selected by models are typically caused by complex feature interactions.\n",
    "\n",
    "Remember, sometimes your data simply will not be predictive of your chosen target. This is common. Machine learning is a powerful tool, but it is not magic. If your data does not contain predictive signal, even the most complex algorithm will not be able to deliver consistent and accurate predictions. Do not be afraid to draw this conclusion.\n",
    "\n",
    "Even if you cannot use the model to make strong predictions, was the work done in vain? What insights can you report back to stakeholders?"
   ]
  }
 ],
 "metadata": {
  "colab": {
   "provenance": [
    {
     "file_id": "1DHsmIEwaXUmfVT4tFzyOwyyfXAX0v6IF",
     "timestamp": 1675262571681
    },
    {
     "file_id": "1oNheYh5WbljxkvoK_BMkQTey2DWnFXMs",
     "timestamp": 1674856595373
    }
   ]
  },
  "kernelspec": {
   "display_name": "Python 3 (ipykernel)",
   "language": "python",
   "name": "python3"
  },
  "language_info": {
   "codemirror_mode": {
    "name": "ipython",
    "version": 3
   },
   "file_extension": ".py",
   "mimetype": "text/x-python",
   "name": "python",
   "nbconvert_exporter": "python",
   "pygments_lexer": "ipython3",
   "version": "3.12.6"
  }
 },
 "nbformat": 4,
 "nbformat_minor": 4
}
